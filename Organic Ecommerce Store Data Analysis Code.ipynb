{
 "cells": [
  {
   "cell_type": "markdown",
   "metadata": {},
   "source": [
    "# Data Analytics Integration in Full-Stack Organic E-Commerce Website"
   ]
  },
  {
   "cell_type": "markdown",
   "metadata": {},
   "source": [
    "# importing Necessary Libraries"
   ]
  },
  {
   "cell_type": "code",
   "execution_count": 2,
   "metadata": {},
   "outputs": [],
   "source": [
    "import pymysql\n",
    "import tabulate\n",
    "import pandas as pd\n",
    "import numpy as np\n",
    "import matplotlib.pyplot as plt\n",
    "import seaborn as sns"
   ]
  },
  {
   "cell_type": "markdown",
   "metadata": {},
   "source": [
    "# Connecting MySQL Database"
   ]
  },
  {
   "cell_type": "code",
   "execution_count": 3,
   "metadata": {},
   "outputs": [
    {
     "name": "stdout",
     "output_type": "stream",
     "text": [
      "Connection to MySQL DB successful\n"
     ]
    }
   ],
   "source": [
    "try:\n",
    "    connection = pymysql.connect(\n",
    "        host = 'localhost',\n",
    "        user = 'root',\n",
    "        password = '1234',\n",
    "        database = 'ecommerce'\n",
    "    )\n",
    "    print(\"Connection to MySQL DB successful\")\n",
    "\n",
    "except Exception as err:\n",
    "    print(f\"The error '{err}' occurred\")"
   ]
  },
  {
   "cell_type": "markdown",
   "metadata": {},
   "source": [
    "# Function for Geting Data from MySQL Database"
   ]
  },
  {
   "cell_type": "code",
   "execution_count": 4,
   "metadata": {},
   "outputs": [],
   "source": [
    "def fetch_data(query, connection):\n",
    "    \n",
    "    with connection.cursor(pymysql.cursors.DictCursor) as cursor:\n",
    "        cursor.execute(query)\n",
    "        results = cursor.fetchall()  \n",
    "    return pd.DataFrame(results)  "
   ]
  },
  {
   "cell_type": "code",
   "execution_count": 5,
   "metadata": {},
   "outputs": [],
   "source": [
    "agri_product_query = \"SELECT * FROM agri_data;\"\n",
    "agri_sales_query = \"SELECT * FROM agri_sales_data;\"\n",
    "\n",
    "grocery_product_query = \"SELECT * FROM grocery_data;\" \n",
    "grocery_sales_query = \"SELECT * FROM grocery_sales_data;\"\n",
    "\n",
    "health_product_query = \"SELECT * FROM health_data;\"\n",
    "health_sales_query = \"SELECT * FROM health_sales_data;\"\n",
    "\n",
    "homecare_product_query = \"SELECT * FROM homecare_data;\"\n",
    "homecare_sales_query = \"SELECT * FROM homecare_sales_data;\"\n",
    "\n",
    "pet_product_query = \"SELECT * FROM pet_data;\"\n",
    "pet_sales_query = \"SELECT * FROM pet_sales_data;\"\n",
    "\n",
    "skincare_product_query = \"SELECT * FROM skincare_data;\"\n",
    "skincare_sales_query = \"SELECT * FROM skincare_sales_data;\""
   ]
  },
  {
   "cell_type": "code",
   "execution_count": 6,
   "metadata": {},
   "outputs": [],
   "source": [
    "agri_product = fetch_data(agri_product_query, connection)\n",
    "agri_sales = fetch_data(agri_sales_query, connection)\n",
    "\n",
    "grocery_product = fetch_data(grocery_product_query, connection)\n",
    "grocery_sales = fetch_data(grocery_sales_query, connection)\n",
    "\n",
    "health_product = fetch_data(health_product_query, connection)\n",
    "health_sales = fetch_data(health_sales_query, connection)\n",
    "\n",
    "homecare_product = fetch_data(homecare_product_query, connection)\n",
    "homecare_sales = fetch_data(homecare_sales_query, connection)\n",
    "\n",
    "pet_product = fetch_data(pet_product_query, connection)\n",
    "pet_sales = fetch_data(pet_sales_query, connection)\n",
    "\n",
    "skincare_product = fetch_data(skincare_product_query, connection)\n",
    "skincare_sales = fetch_data(skincare_sales_query, connection)"
   ]
  },
  {
   "cell_type": "markdown",
   "metadata": {},
   "source": [
    "# View Datasets"
   ]
  },
  {
   "cell_type": "code",
   "execution_count": 7,
   "metadata": {},
   "outputs": [
    {
     "data": {
      "text/html": [
       "<div>\n",
       "<style scoped>\n",
       "    .dataframe tbody tr th:only-of-type {\n",
       "        vertical-align: middle;\n",
       "    }\n",
       "\n",
       "    .dataframe tbody tr th {\n",
       "        vertical-align: top;\n",
       "    }\n",
       "\n",
       "    .dataframe thead th {\n",
       "        text-align: right;\n",
       "    }\n",
       "</style>\n",
       "<table border=\"1\" class=\"dataframe\">\n",
       "  <thead>\n",
       "    <tr style=\"text-align: right;\">\n",
       "      <th></th>\n",
       "      <th>URL</th>\n",
       "      <th>ASIN</th>\n",
       "      <th>Title</th>\n",
       "      <th>Sub Title</th>\n",
       "      <th>Price</th>\n",
       "      <th>stars out of 5</th>\n",
       "      <th>bought in the last month</th>\n",
       "    </tr>\n",
       "  </thead>\n",
       "  <tbody>\n",
       "    <tr>\n",
       "      <th>0</th>\n",
       "      <td>https://www.amazon.in/sspa/click?ie=UTF8&amp;spc=M...</td>\n",
       "      <td>B01N0X446I</td>\n",
       "      <td>OrganoMagic Liquid Plant Booster | Speed Growt...</td>\n",
       "      <td>Sponsored</td>\n",
       "      <td>276.65</td>\n",
       "      <td>3.8 out of 5 stars</td>\n",
       "      <td>200+ bought in past month</td>\n",
       "    </tr>\n",
       "    <tr>\n",
       "      <th>1</th>\n",
       "      <td>https://www.amazon.in/sspa/click?ie=UTF8&amp;spc=M...</td>\n",
       "      <td>B085M71ZB5</td>\n",
       "      <td>IFFCO Urban Gardens - Sea Secret - 1Kg - Seawe...</td>\n",
       "      <td>Sponsored</td>\n",
       "      <td>1604.63</td>\n",
       "      <td>4.1 out of 5 stars</td>\n",
       "      <td>1K+ bought in past month</td>\n",
       "    </tr>\n",
       "    <tr>\n",
       "      <th>2</th>\n",
       "      <td>https://www.amazon.in/sspa/click?ie=UTF8&amp;spc=M...</td>\n",
       "      <td>B085M77TRM</td>\n",
       "      <td>IFFCO Urban Gardens - Green Diet - 500 ML - Or...</td>\n",
       "      <td>Sponsored</td>\n",
       "      <td>557.08</td>\n",
       "      <td>3.7 out of 5 stars</td>\n",
       "      <td>400+ bought in past month</td>\n",
       "    </tr>\n",
       "    <tr>\n",
       "      <th>3</th>\n",
       "      <td>https://www.amazon.in/sspa/click?ie=UTF8&amp;spc=M...</td>\n",
       "      <td>B0CRRTF4PQ</td>\n",
       "      <td>IFFCO Urban Gardens - Dr Neem+ Cake Powder/Nee...</td>\n",
       "      <td>Sponsored</td>\n",
       "      <td>1600.25</td>\n",
       "      <td>4.2 out of 5 stars</td>\n",
       "      <td>50+ bought in past month</td>\n",
       "    </tr>\n",
       "    <tr>\n",
       "      <th>4</th>\n",
       "      <td>https://www.amazon.in/Vermicompost-Supplement-...</td>\n",
       "      <td>B0DFT4XRML</td>\n",
       "      <td>YATAN NANDANI Dairy Vermicompost, Organic Supp...</td>\n",
       "      <td>(Ã¢â€šÂ¹119.80Ã¢â€šÂ¹119.80/Kilograms)</td>\n",
       "      <td>989.05</td>\n",
       "      <td></td>\n",
       "      <td></td>\n",
       "    </tr>\n",
       "  </tbody>\n",
       "</table>\n",
       "</div>"
      ],
      "text/plain": [
       "                                                 URL        ASIN  \\\n",
       "0  https://www.amazon.in/sspa/click?ie=UTF8&spc=M...  B01N0X446I   \n",
       "1  https://www.amazon.in/sspa/click?ie=UTF8&spc=M...  B085M71ZB5   \n",
       "2  https://www.amazon.in/sspa/click?ie=UTF8&spc=M...  B085M77TRM   \n",
       "3  https://www.amazon.in/sspa/click?ie=UTF8&spc=M...  B0CRRTF4PQ   \n",
       "4  https://www.amazon.in/Vermicompost-Supplement-...  B0DFT4XRML   \n",
       "\n",
       "                                               Title  \\\n",
       "0  OrganoMagic Liquid Plant Booster | Speed Growt...   \n",
       "1  IFFCO Urban Gardens - Sea Secret - 1Kg - Seawe...   \n",
       "2  IFFCO Urban Gardens - Green Diet - 500 ML - Or...   \n",
       "3  IFFCO Urban Gardens - Dr Neem+ Cake Powder/Nee...   \n",
       "4  YATAN NANDANI Dairy Vermicompost, Organic Supp...   \n",
       "\n",
       "                                Sub Title    Price      stars out of 5  \\\n",
       "0                               Sponsored   276.65  3.8 out of 5 stars   \n",
       "1                               Sponsored  1604.63  4.1 out of 5 stars   \n",
       "2                               Sponsored   557.08  3.7 out of 5 stars   \n",
       "3                               Sponsored  1600.25  4.2 out of 5 stars   \n",
       "4  (Ã¢â€šÂ¹119.80Ã¢â€šÂ¹119.80/Kilograms)   989.05                       \n",
       "\n",
       "    bought in the last month  \n",
       "0  200+ bought in past month  \n",
       "1   1K+ bought in past month  \n",
       "2  400+ bought in past month  \n",
       "3   50+ bought in past month  \n",
       "4                             "
      ]
     },
     "execution_count": 7,
     "metadata": {},
     "output_type": "execute_result"
    }
   ],
   "source": [
    "agri_product.head()"
   ]
  },
  {
   "cell_type": "code",
   "execution_count": 8,
   "metadata": {},
   "outputs": [
    {
     "data": {
      "text/html": [
       "<div>\n",
       "<style scoped>\n",
       "    .dataframe tbody tr th:only-of-type {\n",
       "        vertical-align: middle;\n",
       "    }\n",
       "\n",
       "    .dataframe tbody tr th {\n",
       "        vertical-align: top;\n",
       "    }\n",
       "\n",
       "    .dataframe thead th {\n",
       "        text-align: right;\n",
       "    }\n",
       "</style>\n",
       "<table border=\"1\" class=\"dataframe\">\n",
       "  <thead>\n",
       "    <tr style=\"text-align: right;\">\n",
       "      <th></th>\n",
       "      <th>product_id</th>\n",
       "      <th>product_name</th>\n",
       "      <th>date</th>\n",
       "      <th>quantity_sold</th>\n",
       "      <th>revenue</th>\n",
       "      <th>customer_id</th>\n",
       "    </tr>\n",
       "  </thead>\n",
       "  <tbody>\n",
       "    <tr>\n",
       "      <th>0</th>\n",
       "      <td>AGR_1</td>\n",
       "      <td>OrganoMagic Liquid Plant Booster | Speed Growt...</td>\n",
       "      <td>2023-10-21</td>\n",
       "      <td>4.0</td>\n",
       "      <td>1106.60</td>\n",
       "      <td>CUST_5774</td>\n",
       "    </tr>\n",
       "    <tr>\n",
       "      <th>1</th>\n",
       "      <td>AGR_1</td>\n",
       "      <td>OrganoMagic Liquid Plant Booster | Speed Growt...</td>\n",
       "      <td>2023-11-08</td>\n",
       "      <td>4.0</td>\n",
       "      <td>1106.60</td>\n",
       "      <td>CUST_4801</td>\n",
       "    </tr>\n",
       "    <tr>\n",
       "      <th>2</th>\n",
       "      <td>AGR_1</td>\n",
       "      <td>OrganoMagic Liquid Plant Booster | Speed Growt...</td>\n",
       "      <td>2024-05-18</td>\n",
       "      <td>17.0</td>\n",
       "      <td>4703.05</td>\n",
       "      <td>CUST_2065</td>\n",
       "    </tr>\n",
       "    <tr>\n",
       "      <th>3</th>\n",
       "      <td>AGR_2</td>\n",
       "      <td>IFFCO Urban Gardens - Sea Secret - 1Kg - Seawe...</td>\n",
       "      <td>2024-01-03</td>\n",
       "      <td>4.0</td>\n",
       "      <td>6418.52</td>\n",
       "      <td>CUST_2149</td>\n",
       "    </tr>\n",
       "    <tr>\n",
       "      <th>4</th>\n",
       "      <td>AGR_2</td>\n",
       "      <td>IFFCO Urban Gardens - Sea Secret - 1Kg - Seawe...</td>\n",
       "      <td>2023-12-05</td>\n",
       "      <td>6.0</td>\n",
       "      <td>9627.78</td>\n",
       "      <td>CUST_2478</td>\n",
       "    </tr>\n",
       "  </tbody>\n",
       "</table>\n",
       "</div>"
      ],
      "text/plain": [
       "  product_id                                       product_name       date  \\\n",
       "0      AGR_1  OrganoMagic Liquid Plant Booster | Speed Growt... 2023-10-21   \n",
       "1      AGR_1  OrganoMagic Liquid Plant Booster | Speed Growt... 2023-11-08   \n",
       "2      AGR_1  OrganoMagic Liquid Plant Booster | Speed Growt... 2024-05-18   \n",
       "3      AGR_2  IFFCO Urban Gardens - Sea Secret - 1Kg - Seawe... 2024-01-03   \n",
       "4      AGR_2  IFFCO Urban Gardens - Sea Secret - 1Kg - Seawe... 2023-12-05   \n",
       "\n",
       "   quantity_sold  revenue customer_id  \n",
       "0            4.0  1106.60   CUST_5774  \n",
       "1            4.0  1106.60   CUST_4801  \n",
       "2           17.0  4703.05   CUST_2065  \n",
       "3            4.0  6418.52   CUST_2149  \n",
       "4            6.0  9627.78   CUST_2478  "
      ]
     },
     "execution_count": 8,
     "metadata": {},
     "output_type": "execute_result"
    }
   ],
   "source": [
    "agri_sales.head()"
   ]
  },
  {
   "cell_type": "code",
   "execution_count": 9,
   "metadata": {},
   "outputs": [
    {
     "data": {
      "text/html": [
       "<div>\n",
       "<style scoped>\n",
       "    .dataframe tbody tr th:only-of-type {\n",
       "        vertical-align: middle;\n",
       "    }\n",
       "\n",
       "    .dataframe tbody tr th {\n",
       "        vertical-align: top;\n",
       "    }\n",
       "\n",
       "    .dataframe thead th {\n",
       "        text-align: right;\n",
       "    }\n",
       "</style>\n",
       "<table border=\"1\" class=\"dataframe\">\n",
       "  <thead>\n",
       "    <tr style=\"text-align: right;\">\n",
       "      <th></th>\n",
       "      <th>URL</th>\n",
       "      <th>ASIN</th>\n",
       "      <th>Title</th>\n",
       "      <th>Sub Title</th>\n",
       "      <th>Price</th>\n",
       "      <th>stars out of 5</th>\n",
       "      <th>bought in the last month</th>\n",
       "    </tr>\n",
       "  </thead>\n",
       "  <tbody>\n",
       "    <tr>\n",
       "      <th>0</th>\n",
       "      <td>https://www.amazon.in/sspa/click?ie=UTF8&amp;spc=M...</td>\n",
       "      <td>B07XRXH56D</td>\n",
       "      <td>Pushp Brand Jal Jira Masala (500g in each Pack...</td>\n",
       "      <td>Sponsored</td>\n",
       "      <td>1990.98</td>\n",
       "      <td>4.1 out of 5 stars</td>\n",
       "      <td></td>\n",
       "    </tr>\n",
       "    <tr>\n",
       "      <th>1</th>\n",
       "      <td>https://www.amazon.in/sspa/click?ie=UTF8&amp;spc=M...</td>\n",
       "      <td>B08BCYYRRF</td>\n",
       "      <td>Dabur Himalayan Apple Cider Vinegar with Mothe...</td>\n",
       "      <td>Sponsored</td>\n",
       "      <td>1167.95</td>\n",
       "      <td>4.1 out of 5 stars</td>\n",
       "      <td>7K+ bought in past month</td>\n",
       "    </tr>\n",
       "    <tr>\n",
       "      <th>2</th>\n",
       "      <td>https://www.amazon.in/sspa/click?ie=UTF8&amp;spc=M...</td>\n",
       "      <td>B0D8HW8SZ7</td>\n",
       "      <td>Vim Dishwash Liquid 3.2L | Removes 100+ Odours...</td>\n",
       "      <td>Sponsored</td>\n",
       "      <td>1686.64</td>\n",
       "      <td>4.6 out of 5 stars</td>\n",
       "      <td>9K+ bought in past month</td>\n",
       "    </tr>\n",
       "    <tr>\n",
       "      <th>3</th>\n",
       "      <td>https://www.amazon.in/sspa/click?ie=UTF8&amp;spc=M...</td>\n",
       "      <td>B0DD3VWPCL</td>\n",
       "      <td>Bhava Earth Wellness Everyday | Millet Mix, Al...</td>\n",
       "      <td>Sponsored</td>\n",
       "      <td>550.60</td>\n",
       "      <td>5.0 out of 5 stars</td>\n",
       "      <td></td>\n",
       "    </tr>\n",
       "    <tr>\n",
       "      <th>4</th>\n",
       "      <td>https://www.amazon.in/Nutraj-California-Roaste...</td>\n",
       "      <td>B07DL8YV85</td>\n",
       "      <td>Nutraj California Pistachios (Pista) Inshell 5...</td>\n",
       "      <td>Roasted &amp; Salted Pista</td>\n",
       "      <td>285.28</td>\n",
       "      <td>4.1 out of 5 stars</td>\n",
       "      <td>2K+ bought in past month</td>\n",
       "    </tr>\n",
       "  </tbody>\n",
       "</table>\n",
       "</div>"
      ],
      "text/plain": [
       "                                                 URL        ASIN  \\\n",
       "0  https://www.amazon.in/sspa/click?ie=UTF8&spc=M...  B07XRXH56D   \n",
       "1  https://www.amazon.in/sspa/click?ie=UTF8&spc=M...  B08BCYYRRF   \n",
       "2  https://www.amazon.in/sspa/click?ie=UTF8&spc=M...  B0D8HW8SZ7   \n",
       "3  https://www.amazon.in/sspa/click?ie=UTF8&spc=M...  B0DD3VWPCL   \n",
       "4  https://www.amazon.in/Nutraj-California-Roaste...  B07DL8YV85   \n",
       "\n",
       "                                               Title               Sub Title  \\\n",
       "0  Pushp Brand Jal Jira Masala (500g in each Pack...               Sponsored   \n",
       "1  Dabur Himalayan Apple Cider Vinegar with Mothe...               Sponsored   \n",
       "2  Vim Dishwash Liquid 3.2L | Removes 100+ Odours...               Sponsored   \n",
       "3  Bhava Earth Wellness Everyday | Millet Mix, Al...               Sponsored   \n",
       "4  Nutraj California Pistachios (Pista) Inshell 5...  Roasted & Salted Pista   \n",
       "\n",
       "     Price      stars out of 5  bought in the last month  \n",
       "0  1990.98  4.1 out of 5 stars                            \n",
       "1  1167.95  4.1 out of 5 stars  7K+ bought in past month  \n",
       "2  1686.64  4.6 out of 5 stars  9K+ bought in past month  \n",
       "3   550.60  5.0 out of 5 stars                            \n",
       "4   285.28  4.1 out of 5 stars  2K+ bought in past month  "
      ]
     },
     "execution_count": 9,
     "metadata": {},
     "output_type": "execute_result"
    }
   ],
   "source": [
    "grocery_product.head()"
   ]
  },
  {
   "cell_type": "code",
   "execution_count": 10,
   "metadata": {},
   "outputs": [
    {
     "data": {
      "text/html": [
       "<div>\n",
       "<style scoped>\n",
       "    .dataframe tbody tr th:only-of-type {\n",
       "        vertical-align: middle;\n",
       "    }\n",
       "\n",
       "    .dataframe tbody tr th {\n",
       "        vertical-align: top;\n",
       "    }\n",
       "\n",
       "    .dataframe thead th {\n",
       "        text-align: right;\n",
       "    }\n",
       "</style>\n",
       "<table border=\"1\" class=\"dataframe\">\n",
       "  <thead>\n",
       "    <tr style=\"text-align: right;\">\n",
       "      <th></th>\n",
       "      <th>product_id</th>\n",
       "      <th>product_name</th>\n",
       "      <th>date</th>\n",
       "      <th>quantity_sold</th>\n",
       "      <th>revenue</th>\n",
       "      <th>customer_id</th>\n",
       "    </tr>\n",
       "  </thead>\n",
       "  <tbody>\n",
       "    <tr>\n",
       "      <th>0</th>\n",
       "      <td>AGR_1</td>\n",
       "      <td>Pushp Brand Jal Jira Masala (500g in each Pack...</td>\n",
       "      <td>2023-11-27</td>\n",
       "      <td>9.0</td>\n",
       "      <td>17918.82</td>\n",
       "      <td>CUST_9254</td>\n",
       "    </tr>\n",
       "    <tr>\n",
       "      <th>1</th>\n",
       "      <td>AGR_1</td>\n",
       "      <td>Pushp Brand Jal Jira Masala (500g in each Pack...</td>\n",
       "      <td>2023-11-21</td>\n",
       "      <td>14.0</td>\n",
       "      <td>27873.72</td>\n",
       "      <td>CUST_1949</td>\n",
       "    </tr>\n",
       "    <tr>\n",
       "      <th>2</th>\n",
       "      <td>AGR_1</td>\n",
       "      <td>Pushp Brand Jal Jira Masala (500g in each Pack...</td>\n",
       "      <td>2023-12-24</td>\n",
       "      <td>17.0</td>\n",
       "      <td>33846.66</td>\n",
       "      <td>CUST_6834</td>\n",
       "    </tr>\n",
       "    <tr>\n",
       "      <th>3</th>\n",
       "      <td>AGR_2</td>\n",
       "      <td>Dabur Himalayan Apple Cider Vinegar with Mothe...</td>\n",
       "      <td>2024-04-24</td>\n",
       "      <td>2.0</td>\n",
       "      <td>2335.90</td>\n",
       "      <td>CUST_4989</td>\n",
       "    </tr>\n",
       "    <tr>\n",
       "      <th>4</th>\n",
       "      <td>AGR_2</td>\n",
       "      <td>Dabur Himalayan Apple Cider Vinegar with Mothe...</td>\n",
       "      <td>2023-10-22</td>\n",
       "      <td>13.0</td>\n",
       "      <td>15183.35</td>\n",
       "      <td>CUST_1308</td>\n",
       "    </tr>\n",
       "  </tbody>\n",
       "</table>\n",
       "</div>"
      ],
      "text/plain": [
       "  product_id                                       product_name       date  \\\n",
       "0      AGR_1  Pushp Brand Jal Jira Masala (500g in each Pack... 2023-11-27   \n",
       "1      AGR_1  Pushp Brand Jal Jira Masala (500g in each Pack... 2023-11-21   \n",
       "2      AGR_1  Pushp Brand Jal Jira Masala (500g in each Pack... 2023-12-24   \n",
       "3      AGR_2  Dabur Himalayan Apple Cider Vinegar with Mothe... 2024-04-24   \n",
       "4      AGR_2  Dabur Himalayan Apple Cider Vinegar with Mothe... 2023-10-22   \n",
       "\n",
       "   quantity_sold   revenue customer_id  \n",
       "0            9.0  17918.82   CUST_9254  \n",
       "1           14.0  27873.72   CUST_1949  \n",
       "2           17.0  33846.66   CUST_6834  \n",
       "3            2.0   2335.90   CUST_4989  \n",
       "4           13.0  15183.35   CUST_1308  "
      ]
     },
     "execution_count": 10,
     "metadata": {},
     "output_type": "execute_result"
    }
   ],
   "source": [
    "grocery_sales.head()"
   ]
  },
  {
   "cell_type": "code",
   "execution_count": 11,
   "metadata": {},
   "outputs": [
    {
     "data": {
      "text/html": [
       "<div>\n",
       "<style scoped>\n",
       "    .dataframe tbody tr th:only-of-type {\n",
       "        vertical-align: middle;\n",
       "    }\n",
       "\n",
       "    .dataframe tbody tr th {\n",
       "        vertical-align: top;\n",
       "    }\n",
       "\n",
       "    .dataframe thead th {\n",
       "        text-align: right;\n",
       "    }\n",
       "</style>\n",
       "<table border=\"1\" class=\"dataframe\">\n",
       "  <thead>\n",
       "    <tr style=\"text-align: right;\">\n",
       "      <th></th>\n",
       "      <th>URL</th>\n",
       "      <th>ASIN</th>\n",
       "      <th>Title</th>\n",
       "      <th>Sub Title</th>\n",
       "      <th>Price</th>\n",
       "      <th>stars out of 5</th>\n",
       "      <th>bought in the last month</th>\n",
       "    </tr>\n",
       "  </thead>\n",
       "  <tbody>\n",
       "    <tr>\n",
       "      <th>0</th>\n",
       "      <td>https://www.amazon.in/sspa/click?ie=UTF8&amp;spc=M...</td>\n",
       "      <td>B0CH81KTFM</td>\n",
       "      <td>Spellbound Male Fertility Supplement | CoEnzym...</td>\n",
       "      <td>Sponsored</td>\n",
       "      <td>627.86</td>\n",
       "      <td>4.4 out of 5 stars</td>\n",
       "      <td>50+ bought in past month</td>\n",
       "    </tr>\n",
       "    <tr>\n",
       "      <th>1</th>\n",
       "      <td>https://www.amazon.in/sspa/click?ie=UTF8&amp;spc=M...</td>\n",
       "      <td>B08VKFHNL7</td>\n",
       "      <td>SNEC30 Liquid Ayurvedic Curcumin Capsules,900m...</td>\n",
       "      <td>Sponsored</td>\n",
       "      <td>1914.22</td>\n",
       "      <td>4.2 out of 5 stars</td>\n",
       "      <td></td>\n",
       "    </tr>\n",
       "    <tr>\n",
       "      <th>2</th>\n",
       "      <td>https://www.amazon.in/sspa/click?ie=UTF8&amp;spc=M...</td>\n",
       "      <td>B0993PDWD8</td>\n",
       "      <td>Geofit Multivitamin Tablets for Men with Multi...</td>\n",
       "      <td>Sponsored</td>\n",
       "      <td>1311.97</td>\n",
       "      <td>3.9 out of 5 stars</td>\n",
       "      <td>50+ bought in past month</td>\n",
       "    </tr>\n",
       "    <tr>\n",
       "      <th>3</th>\n",
       "      <td>https://www.amazon.in/sspa/click?ie=UTF8&amp;spc=M...</td>\n",
       "      <td>B0BRJG8X3F</td>\n",
       "      <td>Supply6 360 Ultimate Health Powder for Women a...</td>\n",
       "      <td>Sponsored</td>\n",
       "      <td>1489.68</td>\n",
       "      <td>4.1 out of 5 stars</td>\n",
       "      <td>400+ bought in past month</td>\n",
       "    </tr>\n",
       "    <tr>\n",
       "      <th>4</th>\n",
       "      <td>https://www.amazon.in/Healthcare-Products-Supp...</td>\n",
       "      <td>B0BQRWHYGH</td>\n",
       "      <td>Fytika Healthcare Products Fit Liver | Liver D...</td>\n",
       "      <td>Tablet</td>\n",
       "      <td>1946.96</td>\n",
       "      <td>3.9 out of 5 stars</td>\n",
       "      <td>400+ bought in past month</td>\n",
       "    </tr>\n",
       "  </tbody>\n",
       "</table>\n",
       "</div>"
      ],
      "text/plain": [
       "                                                 URL        ASIN  \\\n",
       "0  https://www.amazon.in/sspa/click?ie=UTF8&spc=M...  B0CH81KTFM   \n",
       "1  https://www.amazon.in/sspa/click?ie=UTF8&spc=M...  B08VKFHNL7   \n",
       "2  https://www.amazon.in/sspa/click?ie=UTF8&spc=M...  B0993PDWD8   \n",
       "3  https://www.amazon.in/sspa/click?ie=UTF8&spc=M...  B0BRJG8X3F   \n",
       "4  https://www.amazon.in/Healthcare-Products-Supp...  B0BQRWHYGH   \n",
       "\n",
       "                                               Title  Sub Title    Price  \\\n",
       "0  Spellbound Male Fertility Supplement | CoEnzym...  Sponsored   627.86   \n",
       "1  SNEC30 Liquid Ayurvedic Curcumin Capsules,900m...  Sponsored  1914.22   \n",
       "2  Geofit Multivitamin Tablets for Men with Multi...  Sponsored  1311.97   \n",
       "3  Supply6 360 Ultimate Health Powder for Women a...  Sponsored  1489.68   \n",
       "4  Fytika Healthcare Products Fit Liver | Liver D...     Tablet  1946.96   \n",
       "\n",
       "       stars out of 5   bought in the last month  \n",
       "0  4.4 out of 5 stars   50+ bought in past month  \n",
       "1  4.2 out of 5 stars                             \n",
       "2  3.9 out of 5 stars   50+ bought in past month  \n",
       "3  4.1 out of 5 stars  400+ bought in past month  \n",
       "4  3.9 out of 5 stars  400+ bought in past month  "
      ]
     },
     "execution_count": 11,
     "metadata": {},
     "output_type": "execute_result"
    }
   ],
   "source": [
    "health_product.head()"
   ]
  },
  {
   "cell_type": "code",
   "execution_count": 12,
   "metadata": {},
   "outputs": [
    {
     "data": {
      "text/html": [
       "<div>\n",
       "<style scoped>\n",
       "    .dataframe tbody tr th:only-of-type {\n",
       "        vertical-align: middle;\n",
       "    }\n",
       "\n",
       "    .dataframe tbody tr th {\n",
       "        vertical-align: top;\n",
       "    }\n",
       "\n",
       "    .dataframe thead th {\n",
       "        text-align: right;\n",
       "    }\n",
       "</style>\n",
       "<table border=\"1\" class=\"dataframe\">\n",
       "  <thead>\n",
       "    <tr style=\"text-align: right;\">\n",
       "      <th></th>\n",
       "      <th>product_id</th>\n",
       "      <th>product_name</th>\n",
       "      <th>date</th>\n",
       "      <th>quantity_sold</th>\n",
       "      <th>revenue</th>\n",
       "      <th>customer_id</th>\n",
       "    </tr>\n",
       "  </thead>\n",
       "  <tbody>\n",
       "    <tr>\n",
       "      <th>0</th>\n",
       "      <td>AGR_1</td>\n",
       "      <td>Spellbound Male Fertility Supplement | CoEnzym...</td>\n",
       "      <td>2024-04-15</td>\n",
       "      <td>14.0</td>\n",
       "      <td>8790.04</td>\n",
       "      <td>CUST_6036</td>\n",
       "    </tr>\n",
       "    <tr>\n",
       "      <th>1</th>\n",
       "      <td>AGR_1</td>\n",
       "      <td>Spellbound Male Fertility Supplement | CoEnzym...</td>\n",
       "      <td>2023-10-03</td>\n",
       "      <td>12.0</td>\n",
       "      <td>7534.32</td>\n",
       "      <td>CUST_3430</td>\n",
       "    </tr>\n",
       "    <tr>\n",
       "      <th>2</th>\n",
       "      <td>AGR_2</td>\n",
       "      <td>SNEC30 Liquid Ayurvedic Curcumin Capsules,900m...</td>\n",
       "      <td>2024-08-28</td>\n",
       "      <td>18.0</td>\n",
       "      <td>34455.96</td>\n",
       "      <td>CUST_6233</td>\n",
       "    </tr>\n",
       "    <tr>\n",
       "      <th>3</th>\n",
       "      <td>AGR_2</td>\n",
       "      <td>SNEC30 Liquid Ayurvedic Curcumin Capsules,900m...</td>\n",
       "      <td>2023-10-29</td>\n",
       "      <td>11.0</td>\n",
       "      <td>21056.42</td>\n",
       "      <td>CUST_5883</td>\n",
       "    </tr>\n",
       "    <tr>\n",
       "      <th>4</th>\n",
       "      <td>AGR_2</td>\n",
       "      <td>SNEC30 Liquid Ayurvedic Curcumin Capsules,900m...</td>\n",
       "      <td>2024-08-25</td>\n",
       "      <td>15.0</td>\n",
       "      <td>28713.30</td>\n",
       "      <td>CUST_1710</td>\n",
       "    </tr>\n",
       "  </tbody>\n",
       "</table>\n",
       "</div>"
      ],
      "text/plain": [
       "  product_id                                       product_name       date  \\\n",
       "0      AGR_1  Spellbound Male Fertility Supplement | CoEnzym... 2024-04-15   \n",
       "1      AGR_1  Spellbound Male Fertility Supplement | CoEnzym... 2023-10-03   \n",
       "2      AGR_2  SNEC30 Liquid Ayurvedic Curcumin Capsules,900m... 2024-08-28   \n",
       "3      AGR_2  SNEC30 Liquid Ayurvedic Curcumin Capsules,900m... 2023-10-29   \n",
       "4      AGR_2  SNEC30 Liquid Ayurvedic Curcumin Capsules,900m... 2024-08-25   \n",
       "\n",
       "   quantity_sold   revenue customer_id  \n",
       "0           14.0   8790.04   CUST_6036  \n",
       "1           12.0   7534.32   CUST_3430  \n",
       "2           18.0  34455.96   CUST_6233  \n",
       "3           11.0  21056.42   CUST_5883  \n",
       "4           15.0  28713.30   CUST_1710  "
      ]
     },
     "execution_count": 12,
     "metadata": {},
     "output_type": "execute_result"
    }
   ],
   "source": [
    "health_sales.head()"
   ]
  },
  {
   "cell_type": "code",
   "execution_count": 13,
   "metadata": {},
   "outputs": [
    {
     "data": {
      "text/html": [
       "<div>\n",
       "<style scoped>\n",
       "    .dataframe tbody tr th:only-of-type {\n",
       "        vertical-align: middle;\n",
       "    }\n",
       "\n",
       "    .dataframe tbody tr th {\n",
       "        vertical-align: top;\n",
       "    }\n",
       "\n",
       "    .dataframe thead th {\n",
       "        text-align: right;\n",
       "    }\n",
       "</style>\n",
       "<table border=\"1\" class=\"dataframe\">\n",
       "  <thead>\n",
       "    <tr style=\"text-align: right;\">\n",
       "      <th></th>\n",
       "      <th>URL</th>\n",
       "      <th>ASIN</th>\n",
       "      <th>Title</th>\n",
       "      <th>Sub Title</th>\n",
       "      <th>Price</th>\n",
       "      <th>stars out of 5</th>\n",
       "      <th>bought in the last month</th>\n",
       "    </tr>\n",
       "  </thead>\n",
       "  <tbody>\n",
       "    <tr>\n",
       "      <th>0</th>\n",
       "      <td>https://www.amazon.in/sspa/click?ie=UTF8&amp;spc=M...</td>\n",
       "      <td>B0CDLZVWGC</td>\n",
       "      <td>Repechage Daily Home Regimen Face Care Kit for...</td>\n",
       "      <td>Sponsored</td>\n",
       "      <td>1344.57</td>\n",
       "      <td></td>\n",
       "      <td></td>\n",
       "    </tr>\n",
       "    <tr>\n",
       "      <th>1</th>\n",
       "      <td>https://www.amazon.in/sspa/click?ie=UTF8&amp;spc=M...</td>\n",
       "      <td>B0D6RZYRZG</td>\n",
       "      <td>DOT Kitchen Cleaner 800ml | ACID FREE, Applian...</td>\n",
       "      <td>Sponsored</td>\n",
       "      <td>1767.89</td>\n",
       "      <td>3.7 out of 5 stars</td>\n",
       "      <td></td>\n",
       "    </tr>\n",
       "    <tr>\n",
       "      <th>2</th>\n",
       "      <td>https://www.amazon.in/sspa/click?ie=UTF8&amp;spc=M...</td>\n",
       "      <td>B0C3JJDJJH</td>\n",
       "      <td>DOT Homecare Products Hard Water Spot Remover ...</td>\n",
       "      <td>Sponsored</td>\n",
       "      <td>442.12</td>\n",
       "      <td>3.6 out of 5 stars</td>\n",
       "      <td></td>\n",
       "    </tr>\n",
       "    <tr>\n",
       "      <th>3</th>\n",
       "      <td>https://www.amazon.in/sspa/click?ie=UTF8&amp;spc=M...</td>\n",
       "      <td>B0CKJWFN2W</td>\n",
       "      <td>DOT Homecare Products Stainless Steel Cleaner,...</td>\n",
       "      <td>Sponsored</td>\n",
       "      <td>1214.03</td>\n",
       "      <td>3.2 out of 5 stars</td>\n",
       "      <td></td>\n",
       "    </tr>\n",
       "    <tr>\n",
       "      <th>4</th>\n",
       "      <td>https://www.amazon.in/M-N-C-Disinfectant-Surfa...</td>\n",
       "      <td>B0BGY15KJL</td>\n",
       "      <td>M&amp;C HOMECARE Disinfectant Surface &amp; Floor Clea...</td>\n",
       "      <td>Liquid</td>\n",
       "      <td>1023.45</td>\n",
       "      <td>3.2 out of 5 stars</td>\n",
       "      <td>1K+ bought in past month</td>\n",
       "    </tr>\n",
       "  </tbody>\n",
       "</table>\n",
       "</div>"
      ],
      "text/plain": [
       "                                                 URL        ASIN  \\\n",
       "0  https://www.amazon.in/sspa/click?ie=UTF8&spc=M...  B0CDLZVWGC   \n",
       "1  https://www.amazon.in/sspa/click?ie=UTF8&spc=M...  B0D6RZYRZG   \n",
       "2  https://www.amazon.in/sspa/click?ie=UTF8&spc=M...  B0C3JJDJJH   \n",
       "3  https://www.amazon.in/sspa/click?ie=UTF8&spc=M...  B0CKJWFN2W   \n",
       "4  https://www.amazon.in/M-N-C-Disinfectant-Surfa...  B0BGY15KJL   \n",
       "\n",
       "                                               Title  Sub Title    Price  \\\n",
       "0  Repechage Daily Home Regimen Face Care Kit for...  Sponsored  1344.57   \n",
       "1  DOT Kitchen Cleaner 800ml | ACID FREE, Applian...  Sponsored  1767.89   \n",
       "2  DOT Homecare Products Hard Water Spot Remover ...  Sponsored   442.12   \n",
       "3  DOT Homecare Products Stainless Steel Cleaner,...  Sponsored  1214.03   \n",
       "4  M&C HOMECARE Disinfectant Surface & Floor Clea...     Liquid  1023.45   \n",
       "\n",
       "       stars out of 5  bought in the last month  \n",
       "0                                                \n",
       "1  3.7 out of 5 stars                            \n",
       "2  3.6 out of 5 stars                            \n",
       "3  3.2 out of 5 stars                            \n",
       "4  3.2 out of 5 stars  1K+ bought in past month  "
      ]
     },
     "execution_count": 13,
     "metadata": {},
     "output_type": "execute_result"
    }
   ],
   "source": [
    "homecare_product.head()"
   ]
  },
  {
   "cell_type": "code",
   "execution_count": 14,
   "metadata": {},
   "outputs": [
    {
     "data": {
      "text/html": [
       "<div>\n",
       "<style scoped>\n",
       "    .dataframe tbody tr th:only-of-type {\n",
       "        vertical-align: middle;\n",
       "    }\n",
       "\n",
       "    .dataframe tbody tr th {\n",
       "        vertical-align: top;\n",
       "    }\n",
       "\n",
       "    .dataframe thead th {\n",
       "        text-align: right;\n",
       "    }\n",
       "</style>\n",
       "<table border=\"1\" class=\"dataframe\">\n",
       "  <thead>\n",
       "    <tr style=\"text-align: right;\">\n",
       "      <th></th>\n",
       "      <th>product_id</th>\n",
       "      <th>product_name</th>\n",
       "      <th>date</th>\n",
       "      <th>quantity_sold</th>\n",
       "      <th>revenue</th>\n",
       "      <th>customer_id</th>\n",
       "    </tr>\n",
       "  </thead>\n",
       "  <tbody>\n",
       "    <tr>\n",
       "      <th>0</th>\n",
       "      <td>AGR_1</td>\n",
       "      <td>Repechage Daily Home Regimen Face Care Kit for...</td>\n",
       "      <td>2024-08-30</td>\n",
       "      <td>8.0</td>\n",
       "      <td>10756.56</td>\n",
       "      <td>CUST_9110</td>\n",
       "    </tr>\n",
       "    <tr>\n",
       "      <th>1</th>\n",
       "      <td>AGR_1</td>\n",
       "      <td>Repechage Daily Home Regimen Face Care Kit for...</td>\n",
       "      <td>2024-07-03</td>\n",
       "      <td>7.0</td>\n",
       "      <td>9411.99</td>\n",
       "      <td>CUST_4835</td>\n",
       "    </tr>\n",
       "    <tr>\n",
       "      <th>2</th>\n",
       "      <td>AGR_1</td>\n",
       "      <td>Repechage Daily Home Regimen Face Care Kit for...</td>\n",
       "      <td>2024-03-21</td>\n",
       "      <td>14.0</td>\n",
       "      <td>18823.98</td>\n",
       "      <td>CUST_2315</td>\n",
       "    </tr>\n",
       "    <tr>\n",
       "      <th>3</th>\n",
       "      <td>AGR_2</td>\n",
       "      <td>DOT Kitchen Cleaner 800ml | ACID FREE, Applian...</td>\n",
       "      <td>2024-04-07</td>\n",
       "      <td>14.0</td>\n",
       "      <td>24750.46</td>\n",
       "      <td>CUST_4520</td>\n",
       "    </tr>\n",
       "    <tr>\n",
       "      <th>4</th>\n",
       "      <td>AGR_2</td>\n",
       "      <td>DOT Kitchen Cleaner 800ml | ACID FREE, Applian...</td>\n",
       "      <td>2023-11-02</td>\n",
       "      <td>15.0</td>\n",
       "      <td>26518.35</td>\n",
       "      <td>CUST_5211</td>\n",
       "    </tr>\n",
       "  </tbody>\n",
       "</table>\n",
       "</div>"
      ],
      "text/plain": [
       "  product_id                                       product_name       date  \\\n",
       "0      AGR_1  Repechage Daily Home Regimen Face Care Kit for... 2024-08-30   \n",
       "1      AGR_1  Repechage Daily Home Regimen Face Care Kit for... 2024-07-03   \n",
       "2      AGR_1  Repechage Daily Home Regimen Face Care Kit for... 2024-03-21   \n",
       "3      AGR_2  DOT Kitchen Cleaner 800ml | ACID FREE, Applian... 2024-04-07   \n",
       "4      AGR_2  DOT Kitchen Cleaner 800ml | ACID FREE, Applian... 2023-11-02   \n",
       "\n",
       "   quantity_sold   revenue customer_id  \n",
       "0            8.0  10756.56   CUST_9110  \n",
       "1            7.0   9411.99   CUST_4835  \n",
       "2           14.0  18823.98   CUST_2315  \n",
       "3           14.0  24750.46   CUST_4520  \n",
       "4           15.0  26518.35   CUST_5211  "
      ]
     },
     "execution_count": 14,
     "metadata": {},
     "output_type": "execute_result"
    }
   ],
   "source": [
    "homecare_sales.head()"
   ]
  },
  {
   "cell_type": "code",
   "execution_count": 15,
   "metadata": {},
   "outputs": [
    {
     "data": {
      "text/html": [
       "<div>\n",
       "<style scoped>\n",
       "    .dataframe tbody tr th:only-of-type {\n",
       "        vertical-align: middle;\n",
       "    }\n",
       "\n",
       "    .dataframe tbody tr th {\n",
       "        vertical-align: top;\n",
       "    }\n",
       "\n",
       "    .dataframe thead th {\n",
       "        text-align: right;\n",
       "    }\n",
       "</style>\n",
       "<table border=\"1\" class=\"dataframe\">\n",
       "  <thead>\n",
       "    <tr style=\"text-align: right;\">\n",
       "      <th></th>\n",
       "      <th>URL</th>\n",
       "      <th>ASIN</th>\n",
       "      <th>Title</th>\n",
       "      <th>Sub Title</th>\n",
       "      <th>Price</th>\n",
       "      <th>stars out of 5</th>\n",
       "      <th>bought in the last month</th>\n",
       "    </tr>\n",
       "  </thead>\n",
       "  <tbody>\n",
       "    <tr>\n",
       "      <th>0</th>\n",
       "      <td>https://www.amazon.in/sspa/click?ie=UTF8&amp;spc=M...</td>\n",
       "      <td>B09STSYFTP</td>\n",
       "      <td>Henlo Everyday Nutrition Topper | Dog Suppleme...</td>\n",
       "      <td>Sponsored</td>\n",
       "      <td>1390.59</td>\n",
       "      <td>4.0 out of 5 stars</td>\n",
       "      <td>500+ bought in past month</td>\n",
       "    </tr>\n",
       "    <tr>\n",
       "      <th>1</th>\n",
       "      <td>https://www.amazon.in/sspa/click?ie=UTF8&amp;spc=M...</td>\n",
       "      <td>B0CXJBQPRS</td>\n",
       "      <td>POOCH &amp; FURR (600 ML) Omega 3 + 6 + 9 Alaskan ...</td>\n",
       "      <td>Sponsored</td>\n",
       "      <td>676.98</td>\n",
       "      <td>4.2 out of 5 stars</td>\n",
       "      <td>100+ bought in past month</td>\n",
       "    </tr>\n",
       "    <tr>\n",
       "      <th>2</th>\n",
       "      <td>https://www.amazon.in/sspa/click?ie=UTF8&amp;spc=M...</td>\n",
       "      <td>B0BK6M1X7J</td>\n",
       "      <td>PET360 Omega 3+6 Concentrated Salmon Fish Oil ...</td>\n",
       "      <td>Sponsored</td>\n",
       "      <td>284.07</td>\n",
       "      <td>4.0 out of 5 stars</td>\n",
       "      <td>600+ bought in past month</td>\n",
       "    </tr>\n",
       "    <tr>\n",
       "      <th>3</th>\n",
       "      <td>https://www.amazon.in/sspa/click?ie=UTF8&amp;spc=M...</td>\n",
       "      <td>B0DH3LHNVB</td>\n",
       "      <td>NICEWAY INDIA Nicecal Companion Care Calcium S...</td>\n",
       "      <td>Sponsored</td>\n",
       "      <td>415.40</td>\n",
       "      <td></td>\n",
       "      <td></td>\n",
       "    </tr>\n",
       "    <tr>\n",
       "      <th>4</th>\n",
       "      <td>https://www.amazon.in/Drools-Absolute-Skin-Tab...</td>\n",
       "      <td>B01IEXX58S</td>\n",
       "      <td>Drools Absolute Dog Supplement Tablet, Skin + ...</td>\n",
       "      <td>1K+ bought in past month</td>\n",
       "      <td>1366.15</td>\n",
       "      <td>4.3 out of 5 stars</td>\n",
       "      <td>1K+ bought in past month</td>\n",
       "    </tr>\n",
       "  </tbody>\n",
       "</table>\n",
       "</div>"
      ],
      "text/plain": [
       "                                                 URL        ASIN  \\\n",
       "0  https://www.amazon.in/sspa/click?ie=UTF8&spc=M...  B09STSYFTP   \n",
       "1  https://www.amazon.in/sspa/click?ie=UTF8&spc=M...  B0CXJBQPRS   \n",
       "2  https://www.amazon.in/sspa/click?ie=UTF8&spc=M...  B0BK6M1X7J   \n",
       "3  https://www.amazon.in/sspa/click?ie=UTF8&spc=M...  B0DH3LHNVB   \n",
       "4  https://www.amazon.in/Drools-Absolute-Skin-Tab...  B01IEXX58S   \n",
       "\n",
       "                                               Title  \\\n",
       "0  Henlo Everyday Nutrition Topper | Dog Suppleme...   \n",
       "1  POOCH & FURR (600 ML) Omega 3 + 6 + 9 Alaskan ...   \n",
       "2  PET360 Omega 3+6 Concentrated Salmon Fish Oil ...   \n",
       "3  NICEWAY INDIA Nicecal Companion Care Calcium S...   \n",
       "4  Drools Absolute Dog Supplement Tablet, Skin + ...   \n",
       "\n",
       "                  Sub Title    Price      stars out of 5  \\\n",
       "0                 Sponsored  1390.59  4.0 out of 5 stars   \n",
       "1                 Sponsored   676.98  4.2 out of 5 stars   \n",
       "2                 Sponsored   284.07  4.0 out of 5 stars   \n",
       "3                 Sponsored   415.40                       \n",
       "4  1K+ bought in past month  1366.15  4.3 out of 5 stars   \n",
       "\n",
       "    bought in the last month  \n",
       "0  500+ bought in past month  \n",
       "1  100+ bought in past month  \n",
       "2  600+ bought in past month  \n",
       "3                             \n",
       "4   1K+ bought in past month  "
      ]
     },
     "execution_count": 15,
     "metadata": {},
     "output_type": "execute_result"
    }
   ],
   "source": [
    "pet_product.head()"
   ]
  },
  {
   "cell_type": "code",
   "execution_count": 16,
   "metadata": {},
   "outputs": [
    {
     "data": {
      "text/html": [
       "<div>\n",
       "<style scoped>\n",
       "    .dataframe tbody tr th:only-of-type {\n",
       "        vertical-align: middle;\n",
       "    }\n",
       "\n",
       "    .dataframe tbody tr th {\n",
       "        vertical-align: top;\n",
       "    }\n",
       "\n",
       "    .dataframe thead th {\n",
       "        text-align: right;\n",
       "    }\n",
       "</style>\n",
       "<table border=\"1\" class=\"dataframe\">\n",
       "  <thead>\n",
       "    <tr style=\"text-align: right;\">\n",
       "      <th></th>\n",
       "      <th>product_id</th>\n",
       "      <th>product_name</th>\n",
       "      <th>date</th>\n",
       "      <th>quantity_sold</th>\n",
       "      <th>revenue</th>\n",
       "      <th>customer_id</th>\n",
       "    </tr>\n",
       "  </thead>\n",
       "  <tbody>\n",
       "    <tr>\n",
       "      <th>0</th>\n",
       "      <td>AGR_1</td>\n",
       "      <td>Henlo Everyday Nutrition Topper | Dog Suppleme...</td>\n",
       "      <td>2023-10-04</td>\n",
       "      <td>1.0</td>\n",
       "      <td>1390.59</td>\n",
       "      <td>CUST_8427</td>\n",
       "    </tr>\n",
       "    <tr>\n",
       "      <th>1</th>\n",
       "      <td>AGR_1</td>\n",
       "      <td>Henlo Everyday Nutrition Topper | Dog Suppleme...</td>\n",
       "      <td>2024-05-29</td>\n",
       "      <td>14.0</td>\n",
       "      <td>19468.26</td>\n",
       "      <td>CUST_2881</td>\n",
       "    </tr>\n",
       "    <tr>\n",
       "      <th>2</th>\n",
       "      <td>AGR_1</td>\n",
       "      <td>Henlo Everyday Nutrition Topper | Dog Suppleme...</td>\n",
       "      <td>2023-12-05</td>\n",
       "      <td>7.0</td>\n",
       "      <td>9734.13</td>\n",
       "      <td>CUST_1122</td>\n",
       "    </tr>\n",
       "    <tr>\n",
       "      <th>3</th>\n",
       "      <td>AGR_1</td>\n",
       "      <td>Henlo Everyday Nutrition Topper | Dog Suppleme...</td>\n",
       "      <td>2024-03-13</td>\n",
       "      <td>17.0</td>\n",
       "      <td>23640.03</td>\n",
       "      <td>CUST_6853</td>\n",
       "    </tr>\n",
       "    <tr>\n",
       "      <th>4</th>\n",
       "      <td>AGR_2</td>\n",
       "      <td>POOCH &amp; FURR (600 ML) Omega 3 + 6 + 9 Alaskan ...</td>\n",
       "      <td>2024-01-21</td>\n",
       "      <td>5.0</td>\n",
       "      <td>3384.90</td>\n",
       "      <td>CUST_1951</td>\n",
       "    </tr>\n",
       "  </tbody>\n",
       "</table>\n",
       "</div>"
      ],
      "text/plain": [
       "  product_id                                       product_name       date  \\\n",
       "0      AGR_1  Henlo Everyday Nutrition Topper | Dog Suppleme... 2023-10-04   \n",
       "1      AGR_1  Henlo Everyday Nutrition Topper | Dog Suppleme... 2024-05-29   \n",
       "2      AGR_1  Henlo Everyday Nutrition Topper | Dog Suppleme... 2023-12-05   \n",
       "3      AGR_1  Henlo Everyday Nutrition Topper | Dog Suppleme... 2024-03-13   \n",
       "4      AGR_2  POOCH & FURR (600 ML) Omega 3 + 6 + 9 Alaskan ... 2024-01-21   \n",
       "\n",
       "   quantity_sold   revenue customer_id  \n",
       "0            1.0   1390.59   CUST_8427  \n",
       "1           14.0  19468.26   CUST_2881  \n",
       "2            7.0   9734.13   CUST_1122  \n",
       "3           17.0  23640.03   CUST_6853  \n",
       "4            5.0   3384.90   CUST_1951  "
      ]
     },
     "execution_count": 16,
     "metadata": {},
     "output_type": "execute_result"
    }
   ],
   "source": [
    "pet_sales.head()"
   ]
  },
  {
   "cell_type": "code",
   "execution_count": 17,
   "metadata": {},
   "outputs": [
    {
     "data": {
      "text/html": [
       "<div>\n",
       "<style scoped>\n",
       "    .dataframe tbody tr th:only-of-type {\n",
       "        vertical-align: middle;\n",
       "    }\n",
       "\n",
       "    .dataframe tbody tr th {\n",
       "        vertical-align: top;\n",
       "    }\n",
       "\n",
       "    .dataframe thead th {\n",
       "        text-align: right;\n",
       "    }\n",
       "</style>\n",
       "<table border=\"1\" class=\"dataframe\">\n",
       "  <thead>\n",
       "    <tr style=\"text-align: right;\">\n",
       "      <th></th>\n",
       "      <th>URL</th>\n",
       "      <th>ASIN</th>\n",
       "      <th>Title</th>\n",
       "      <th>Sub Title</th>\n",
       "      <th>Price</th>\n",
       "      <th>stars out of 5</th>\n",
       "      <th>bought in the last month</th>\n",
       "    </tr>\n",
       "  </thead>\n",
       "  <tbody>\n",
       "    <tr>\n",
       "      <th>0</th>\n",
       "      <td>https://www.amazon.in/sspa/click?ie=UTF8&amp;spc=M...</td>\n",
       "      <td>B08525H1L7</td>\n",
       "      <td>Brinton GlowNise Deep Cleansing Foam Face Wash...</td>\n",
       "      <td>Sponsored</td>\n",
       "      <td>1839.83</td>\n",
       "      <td>4.3 out of 5 stars</td>\n",
       "      <td>200+ bought in past month</td>\n",
       "    </tr>\n",
       "    <tr>\n",
       "      <th>1</th>\n",
       "      <td>https://www.amazon.in/sspa/click?ie=UTF8&amp;spc=M...</td>\n",
       "      <td>B01AGCTEWQ</td>\n",
       "      <td>Botanica 3D Serum - 30ml | Intense Revitalizer...</td>\n",
       "      <td>Sponsored</td>\n",
       "      <td>1966.51</td>\n",
       "      <td>4.1 out of 5 stars</td>\n",
       "      <td>50+ bought in past month</td>\n",
       "    </tr>\n",
       "    <tr>\n",
       "      <th>2</th>\n",
       "      <td>https://www.amazon.in/sspa/click?ie=UTF8&amp;spc=M...</td>\n",
       "      <td>B09JVPQTY9</td>\n",
       "      <td>Pilgrim 25% AHA + 2% BHA + 5% PHA Peeling Solu...</td>\n",
       "      <td>Sponsored</td>\n",
       "      <td>1861.48</td>\n",
       "      <td>3.9 out of 5 stars</td>\n",
       "      <td>6K+ bought in past month</td>\n",
       "    </tr>\n",
       "    <tr>\n",
       "      <th>3</th>\n",
       "      <td>https://www.amazon.in/sspa/click?ie=UTF8&amp;spc=M...</td>\n",
       "      <td>B0CKTQGLMZ</td>\n",
       "      <td>Himalaya Dark Spot Clearing Turmeric Face Seru...</td>\n",
       "      <td>Sponsored</td>\n",
       "      <td>416.39</td>\n",
       "      <td>4.0 out of 5 stars</td>\n",
       "      <td>7K+ bought in past month</td>\n",
       "    </tr>\n",
       "    <tr>\n",
       "      <th>4</th>\n",
       "      <td>https://www.amazon.in/Cetaphil-Gentle-Skin-Cle...</td>\n",
       "      <td>B01CCGW4OE</td>\n",
       "      <td>Cetaphil Face Wash Gentle Skin Cleanser for Dr...</td>\n",
       "      <td>50K+ bought in past month</td>\n",
       "      <td>808.43</td>\n",
       "      <td>4.3 out of 5 stars</td>\n",
       "      <td>50K+ bought in past month</td>\n",
       "    </tr>\n",
       "  </tbody>\n",
       "</table>\n",
       "</div>"
      ],
      "text/plain": [
       "                                                 URL        ASIN  \\\n",
       "0  https://www.amazon.in/sspa/click?ie=UTF8&spc=M...  B08525H1L7   \n",
       "1  https://www.amazon.in/sspa/click?ie=UTF8&spc=M...  B01AGCTEWQ   \n",
       "2  https://www.amazon.in/sspa/click?ie=UTF8&spc=M...  B09JVPQTY9   \n",
       "3  https://www.amazon.in/sspa/click?ie=UTF8&spc=M...  B0CKTQGLMZ   \n",
       "4  https://www.amazon.in/Cetaphil-Gentle-Skin-Cle...  B01CCGW4OE   \n",
       "\n",
       "                                               Title  \\\n",
       "0  Brinton GlowNise Deep Cleansing Foam Face Wash...   \n",
       "1  Botanica 3D Serum - 30ml | Intense Revitalizer...   \n",
       "2  Pilgrim 25% AHA + 2% BHA + 5% PHA Peeling Solu...   \n",
       "3  Himalaya Dark Spot Clearing Turmeric Face Seru...   \n",
       "4  Cetaphil Face Wash Gentle Skin Cleanser for Dr...   \n",
       "\n",
       "                   Sub Title    Price      stars out of 5  \\\n",
       "0                  Sponsored  1839.83  4.3 out of 5 stars   \n",
       "1                  Sponsored  1966.51  4.1 out of 5 stars   \n",
       "2                  Sponsored  1861.48  3.9 out of 5 stars   \n",
       "3                  Sponsored   416.39  4.0 out of 5 stars   \n",
       "4  50K+ bought in past month   808.43  4.3 out of 5 stars   \n",
       "\n",
       "    bought in the last month  \n",
       "0  200+ bought in past month  \n",
       "1   50+ bought in past month  \n",
       "2   6K+ bought in past month  \n",
       "3   7K+ bought in past month  \n",
       "4  50K+ bought in past month  "
      ]
     },
     "execution_count": 17,
     "metadata": {},
     "output_type": "execute_result"
    }
   ],
   "source": [
    "skincare_product.head()"
   ]
  },
  {
   "cell_type": "code",
   "execution_count": 18,
   "metadata": {},
   "outputs": [
    {
     "data": {
      "text/html": [
       "<div>\n",
       "<style scoped>\n",
       "    .dataframe tbody tr th:only-of-type {\n",
       "        vertical-align: middle;\n",
       "    }\n",
       "\n",
       "    .dataframe tbody tr th {\n",
       "        vertical-align: top;\n",
       "    }\n",
       "\n",
       "    .dataframe thead th {\n",
       "        text-align: right;\n",
       "    }\n",
       "</style>\n",
       "<table border=\"1\" class=\"dataframe\">\n",
       "  <thead>\n",
       "    <tr style=\"text-align: right;\">\n",
       "      <th></th>\n",
       "      <th>product_id</th>\n",
       "      <th>product_name</th>\n",
       "      <th>date</th>\n",
       "      <th>quantity_sold</th>\n",
       "      <th>revenue</th>\n",
       "      <th>customer_id</th>\n",
       "    </tr>\n",
       "  </thead>\n",
       "  <tbody>\n",
       "    <tr>\n",
       "      <th>0</th>\n",
       "      <td>AGR_1</td>\n",
       "      <td>Brinton GlowNise Deep Cleansing Foam Face Wash...</td>\n",
       "      <td>2024-01-10</td>\n",
       "      <td>1.0</td>\n",
       "      <td>1839.83</td>\n",
       "      <td>CUST_9256</td>\n",
       "    </tr>\n",
       "    <tr>\n",
       "      <th>1</th>\n",
       "      <td>AGR_1</td>\n",
       "      <td>Brinton GlowNise Deep Cleansing Foam Face Wash...</td>\n",
       "      <td>2024-08-01</td>\n",
       "      <td>4.0</td>\n",
       "      <td>7359.32</td>\n",
       "      <td>CUST_3778</td>\n",
       "    </tr>\n",
       "    <tr>\n",
       "      <th>2</th>\n",
       "      <td>AGR_1</td>\n",
       "      <td>Brinton GlowNise Deep Cleansing Foam Face Wash...</td>\n",
       "      <td>2024-02-12</td>\n",
       "      <td>6.0</td>\n",
       "      <td>11038.98</td>\n",
       "      <td>CUST_1232</td>\n",
       "    </tr>\n",
       "    <tr>\n",
       "      <th>3</th>\n",
       "      <td>AGR_1</td>\n",
       "      <td>Brinton GlowNise Deep Cleansing Foam Face Wash...</td>\n",
       "      <td>2023-11-30</td>\n",
       "      <td>13.0</td>\n",
       "      <td>23917.79</td>\n",
       "      <td>CUST_1657</td>\n",
       "    </tr>\n",
       "    <tr>\n",
       "      <th>4</th>\n",
       "      <td>AGR_1</td>\n",
       "      <td>Brinton GlowNise Deep Cleansing Foam Face Wash...</td>\n",
       "      <td>2024-05-18</td>\n",
       "      <td>7.0</td>\n",
       "      <td>12878.81</td>\n",
       "      <td>CUST_7338</td>\n",
       "    </tr>\n",
       "  </tbody>\n",
       "</table>\n",
       "</div>"
      ],
      "text/plain": [
       "  product_id                                       product_name       date  \\\n",
       "0      AGR_1  Brinton GlowNise Deep Cleansing Foam Face Wash... 2024-01-10   \n",
       "1      AGR_1  Brinton GlowNise Deep Cleansing Foam Face Wash... 2024-08-01   \n",
       "2      AGR_1  Brinton GlowNise Deep Cleansing Foam Face Wash... 2024-02-12   \n",
       "3      AGR_1  Brinton GlowNise Deep Cleansing Foam Face Wash... 2023-11-30   \n",
       "4      AGR_1  Brinton GlowNise Deep Cleansing Foam Face Wash... 2024-05-18   \n",
       "\n",
       "   quantity_sold   revenue customer_id  \n",
       "0            1.0   1839.83   CUST_9256  \n",
       "1            4.0   7359.32   CUST_3778  \n",
       "2            6.0  11038.98   CUST_1232  \n",
       "3           13.0  23917.79   CUST_1657  \n",
       "4            7.0  12878.81   CUST_7338  "
      ]
     },
     "execution_count": 18,
     "metadata": {},
     "output_type": "execute_result"
    }
   ],
   "source": [
    "skincare_sales.head()"
   ]
  },
  {
   "cell_type": "markdown",
   "metadata": {},
   "source": [
    "# Function for Remove Columns in All the Product Dataset"
   ]
  },
  {
   "cell_type": "code",
   "execution_count": 19,
   "metadata": {},
   "outputs": [],
   "source": [
    "def remove_col_product(table_name):\n",
    "\n",
    "    columns_to_remove_product = ['URL', 'ASIN', 'Sub Title', 'bought in the last month']\n",
    "\n",
    "    table_name.drop(columns= columns_to_remove_product, inplace= True)"
   ]
  },
  {
   "cell_type": "code",
   "execution_count": 20,
   "metadata": {},
   "outputs": [],
   "source": [
    "remove_col_product(agri_product)\n",
    "remove_col_product(grocery_product)\n",
    "remove_col_product(health_product)\n",
    "remove_col_product(homecare_product)\n",
    "remove_col_product(pet_product)\n",
    "remove_col_product(skincare_product)"
   ]
  },
  {
   "cell_type": "code",
   "execution_count": 21,
   "metadata": {},
   "outputs": [
    {
     "name": "stdout",
     "output_type": "stream",
     "text": [
      "<class 'pandas.core.frame.DataFrame'>\n",
      "RangeIndex: 390 entries, 0 to 389\n",
      "Data columns (total 3 columns):\n",
      " #   Column          Non-Null Count  Dtype  \n",
      "---  ------          --------------  -----  \n",
      " 0   Title           390 non-null    object \n",
      " 1   Price           390 non-null    float64\n",
      " 2   stars out of 5  390 non-null    object \n",
      "dtypes: float64(1), object(2)\n",
      "memory usage: 9.3+ KB\n"
     ]
    }
   ],
   "source": [
    "agri_product.info()"
   ]
  },
  {
   "cell_type": "markdown",
   "metadata": {},
   "source": [
    "# Function for Remove Columns in All the Sales Dataset"
   ]
  },
  {
   "cell_type": "code",
   "execution_count": 22,
   "metadata": {},
   "outputs": [],
   "source": [
    "def remove_col_sales(table_name):\n",
    "\n",
    "    columns_to_remove_sales = ['product_id']\n",
    "\n",
    "    table_name.drop(columns= columns_to_remove_sales, inplace= True)"
   ]
  },
  {
   "cell_type": "code",
   "execution_count": 23,
   "metadata": {},
   "outputs": [],
   "source": [
    "remove_col_sales(agri_sales)\n",
    "remove_col_sales(grocery_sales)\n",
    "remove_col_sales(health_sales)\n",
    "remove_col_sales(homecare_sales)\n",
    "remove_col_sales(pet_sales)\n",
    "remove_col_sales(skincare_sales)"
   ]
  },
  {
   "cell_type": "code",
   "execution_count": 24,
   "metadata": {},
   "outputs": [
    {
     "name": "stdout",
     "output_type": "stream",
     "text": [
      "<class 'pandas.core.frame.DataFrame'>\n",
      "RangeIndex: 1171 entries, 0 to 1170\n",
      "Data columns (total 5 columns):\n",
      " #   Column         Non-Null Count  Dtype         \n",
      "---  ------         --------------  -----         \n",
      " 0   product_name   1171 non-null   object        \n",
      " 1   date           1171 non-null   datetime64[ns]\n",
      " 2   quantity_sold  1171 non-null   float64       \n",
      " 3   revenue        1171 non-null   float64       \n",
      " 4   customer_id    1171 non-null   object        \n",
      "dtypes: datetime64[ns](1), float64(2), object(2)\n",
      "memory usage: 45.9+ KB\n"
     ]
    }
   ],
   "source": [
    "agri_sales.info()"
   ]
  },
  {
   "cell_type": "code",
   "execution_count": 25,
   "metadata": {},
   "outputs": [
    {
     "data": {
      "text/html": [
       "<div>\n",
       "<style scoped>\n",
       "    .dataframe tbody tr th:only-of-type {\n",
       "        vertical-align: middle;\n",
       "    }\n",
       "\n",
       "    .dataframe tbody tr th {\n",
       "        vertical-align: top;\n",
       "    }\n",
       "\n",
       "    .dataframe thead th {\n",
       "        text-align: right;\n",
       "    }\n",
       "</style>\n",
       "<table border=\"1\" class=\"dataframe\">\n",
       "  <thead>\n",
       "    <tr style=\"text-align: right;\">\n",
       "      <th></th>\n",
       "      <th>Title</th>\n",
       "      <th>Price</th>\n",
       "      <th>stars out of 5</th>\n",
       "    </tr>\n",
       "  </thead>\n",
       "  <tbody>\n",
       "    <tr>\n",
       "      <th>385</th>\n",
       "      <td>Agricultural Policies in Emerging and Transiti...</td>\n",
       "      <td>1498.50</td>\n",
       "      <td></td>\n",
       "    </tr>\n",
       "    <tr>\n",
       "      <th>386</th>\n",
       "      <td>GACILÃ‚Â® Manganese Sulphate Mono hydrate Micr...</td>\n",
       "      <td>285.86</td>\n",
       "      <td></td>\n",
       "    </tr>\n",
       "    <tr>\n",
       "      <th>387</th>\n",
       "      <td>ErwonÃ‚Â® Single Super Phosphate Fertilizer, P...</td>\n",
       "      <td>904.57</td>\n",
       "      <td>4.1 out of 5 stars</td>\n",
       "    </tr>\n",
       "    <tr>\n",
       "      <th>388</th>\n",
       "      <td>Greenedge Biotech Greenedge Organic Seaweed (2...</td>\n",
       "      <td>442.25</td>\n",
       "      <td>4.5 out of 5 stars</td>\n",
       "    </tr>\n",
       "    <tr>\n",
       "      <th>389</th>\n",
       "      <td>ZINC SULPHATE 33% BY UTTAM 1KG PACK</td>\n",
       "      <td>108.40</td>\n",
       "      <td></td>\n",
       "    </tr>\n",
       "  </tbody>\n",
       "</table>\n",
       "</div>"
      ],
      "text/plain": [
       "                                                 Title    Price  \\\n",
       "385  Agricultural Policies in Emerging and Transiti...  1498.50   \n",
       "386  GACILÃ‚Â® Manganese Sulphate Mono hydrate Micr...   285.86   \n",
       "387  ErwonÃ‚Â® Single Super Phosphate Fertilizer, P...   904.57   \n",
       "388  Greenedge Biotech Greenedge Organic Seaweed (2...   442.25   \n",
       "389                ZINC SULPHATE 33% BY UTTAM 1KG PACK   108.40   \n",
       "\n",
       "         stars out of 5  \n",
       "385                      \n",
       "386                      \n",
       "387  4.1 out of 5 stars  \n",
       "388  4.5 out of 5 stars  \n",
       "389                      "
      ]
     },
     "execution_count": 25,
     "metadata": {},
     "output_type": "execute_result"
    }
   ],
   "source": [
    "agri_product.tail()"
   ]
  },
  {
   "cell_type": "markdown",
   "metadata": {},
   "source": [
    "# Function for Rename Columns in All the Product Dataset"
   ]
  },
  {
   "cell_type": "code",
   "execution_count": 26,
   "metadata": {},
   "outputs": [],
   "source": [
    "def rename_col_name(table_name):\n",
    "\n",
    "    table_name.rename(columns={'stars out of 5': 'rating',\n",
    "                                'Title' : 'product_name'}, inplace=True)"
   ]
  },
  {
   "cell_type": "code",
   "execution_count": 27,
   "metadata": {},
   "outputs": [],
   "source": [
    "rename_col_name(agri_product)\n",
    "rename_col_name(grocery_product)\n",
    "rename_col_name(health_product)\n",
    "rename_col_name(homecare_product)\n",
    "rename_col_name(pet_product)\n",
    "rename_col_name(skincare_product)"
   ]
  },
  {
   "cell_type": "code",
   "execution_count": 28,
   "metadata": {},
   "outputs": [
    {
     "data": {
      "text/html": [
       "<div>\n",
       "<style scoped>\n",
       "    .dataframe tbody tr th:only-of-type {\n",
       "        vertical-align: middle;\n",
       "    }\n",
       "\n",
       "    .dataframe tbody tr th {\n",
       "        vertical-align: top;\n",
       "    }\n",
       "\n",
       "    .dataframe thead th {\n",
       "        text-align: right;\n",
       "    }\n",
       "</style>\n",
       "<table border=\"1\" class=\"dataframe\">\n",
       "  <thead>\n",
       "    <tr style=\"text-align: right;\">\n",
       "      <th></th>\n",
       "      <th>product_name</th>\n",
       "      <th>Price</th>\n",
       "      <th>rating</th>\n",
       "    </tr>\n",
       "  </thead>\n",
       "  <tbody>\n",
       "    <tr>\n",
       "      <th>385</th>\n",
       "      <td>Agricultural Policies in Emerging and Transiti...</td>\n",
       "      <td>1498.50</td>\n",
       "      <td></td>\n",
       "    </tr>\n",
       "    <tr>\n",
       "      <th>386</th>\n",
       "      <td>GACILÃ‚Â® Manganese Sulphate Mono hydrate Micr...</td>\n",
       "      <td>285.86</td>\n",
       "      <td></td>\n",
       "    </tr>\n",
       "    <tr>\n",
       "      <th>387</th>\n",
       "      <td>ErwonÃ‚Â® Single Super Phosphate Fertilizer, P...</td>\n",
       "      <td>904.57</td>\n",
       "      <td>4.1 out of 5 stars</td>\n",
       "    </tr>\n",
       "    <tr>\n",
       "      <th>388</th>\n",
       "      <td>Greenedge Biotech Greenedge Organic Seaweed (2...</td>\n",
       "      <td>442.25</td>\n",
       "      <td>4.5 out of 5 stars</td>\n",
       "    </tr>\n",
       "    <tr>\n",
       "      <th>389</th>\n",
       "      <td>ZINC SULPHATE 33% BY UTTAM 1KG PACK</td>\n",
       "      <td>108.40</td>\n",
       "      <td></td>\n",
       "    </tr>\n",
       "  </tbody>\n",
       "</table>\n",
       "</div>"
      ],
      "text/plain": [
       "                                          product_name    Price  \\\n",
       "385  Agricultural Policies in Emerging and Transiti...  1498.50   \n",
       "386  GACILÃ‚Â® Manganese Sulphate Mono hydrate Micr...   285.86   \n",
       "387  ErwonÃ‚Â® Single Super Phosphate Fertilizer, P...   904.57   \n",
       "388  Greenedge Biotech Greenedge Organic Seaweed (2...   442.25   \n",
       "389                ZINC SULPHATE 33% BY UTTAM 1KG PACK   108.40   \n",
       "\n",
       "                 rating  \n",
       "385                      \n",
       "386                      \n",
       "387  4.1 out of 5 stars  \n",
       "388  4.5 out of 5 stars  \n",
       "389                      "
      ]
     },
     "execution_count": 28,
     "metadata": {},
     "output_type": "execute_result"
    }
   ],
   "source": [
    "agri_product.tail()"
   ]
  },
  {
   "cell_type": "code",
   "execution_count": 29,
   "metadata": {},
   "outputs": [
    {
     "data": {
      "text/html": [
       "<div>\n",
       "<style scoped>\n",
       "    .dataframe tbody tr th:only-of-type {\n",
       "        vertical-align: middle;\n",
       "    }\n",
       "\n",
       "    .dataframe tbody tr th {\n",
       "        vertical-align: top;\n",
       "    }\n",
       "\n",
       "    .dataframe thead th {\n",
       "        text-align: right;\n",
       "    }\n",
       "</style>\n",
       "<table border=\"1\" class=\"dataframe\">\n",
       "  <thead>\n",
       "    <tr style=\"text-align: right;\">\n",
       "      <th></th>\n",
       "      <th>product_name</th>\n",
       "      <th>date</th>\n",
       "      <th>quantity_sold</th>\n",
       "      <th>revenue</th>\n",
       "      <th>customer_id</th>\n",
       "    </tr>\n",
       "  </thead>\n",
       "  <tbody>\n",
       "    <tr>\n",
       "      <th>0</th>\n",
       "      <td>OrganoMagic Liquid Plant Booster | Speed Growt...</td>\n",
       "      <td>2023-10-21</td>\n",
       "      <td>4.0</td>\n",
       "      <td>1106.60</td>\n",
       "      <td>CUST_5774</td>\n",
       "    </tr>\n",
       "    <tr>\n",
       "      <th>1</th>\n",
       "      <td>OrganoMagic Liquid Plant Booster | Speed Growt...</td>\n",
       "      <td>2023-11-08</td>\n",
       "      <td>4.0</td>\n",
       "      <td>1106.60</td>\n",
       "      <td>CUST_4801</td>\n",
       "    </tr>\n",
       "    <tr>\n",
       "      <th>2</th>\n",
       "      <td>OrganoMagic Liquid Plant Booster | Speed Growt...</td>\n",
       "      <td>2024-05-18</td>\n",
       "      <td>17.0</td>\n",
       "      <td>4703.05</td>\n",
       "      <td>CUST_2065</td>\n",
       "    </tr>\n",
       "    <tr>\n",
       "      <th>3</th>\n",
       "      <td>IFFCO Urban Gardens - Sea Secret - 1Kg - Seawe...</td>\n",
       "      <td>2024-01-03</td>\n",
       "      <td>4.0</td>\n",
       "      <td>6418.52</td>\n",
       "      <td>CUST_2149</td>\n",
       "    </tr>\n",
       "    <tr>\n",
       "      <th>4</th>\n",
       "      <td>IFFCO Urban Gardens - Sea Secret - 1Kg - Seawe...</td>\n",
       "      <td>2023-12-05</td>\n",
       "      <td>6.0</td>\n",
       "      <td>9627.78</td>\n",
       "      <td>CUST_2478</td>\n",
       "    </tr>\n",
       "  </tbody>\n",
       "</table>\n",
       "</div>"
      ],
      "text/plain": [
       "                                        product_name       date  \\\n",
       "0  OrganoMagic Liquid Plant Booster | Speed Growt... 2023-10-21   \n",
       "1  OrganoMagic Liquid Plant Booster | Speed Growt... 2023-11-08   \n",
       "2  OrganoMagic Liquid Plant Booster | Speed Growt... 2024-05-18   \n",
       "3  IFFCO Urban Gardens - Sea Secret - 1Kg - Seawe... 2024-01-03   \n",
       "4  IFFCO Urban Gardens - Sea Secret - 1Kg - Seawe... 2023-12-05   \n",
       "\n",
       "   quantity_sold  revenue customer_id  \n",
       "0            4.0  1106.60   CUST_5774  \n",
       "1            4.0  1106.60   CUST_4801  \n",
       "2           17.0  4703.05   CUST_2065  \n",
       "3            4.0  6418.52   CUST_2149  \n",
       "4            6.0  9627.78   CUST_2478  "
      ]
     },
     "execution_count": 29,
     "metadata": {},
     "output_type": "execute_result"
    }
   ],
   "source": [
    "agri_sales.head()"
   ]
  },
  {
   "cell_type": "markdown",
   "metadata": {},
   "source": [
    "# Function for Extract the Rating Value"
   ]
  },
  {
   "cell_type": "code",
   "execution_count": 30,
   "metadata": {},
   "outputs": [],
   "source": [
    "def split(table_name):\n",
    "\n",
    "    table_name['rating'] = table_name['rating'].str.extract(r'([0-9]+\\.[0-9]+)').astype(float)\n"
   ]
  },
  {
   "cell_type": "code",
   "execution_count": 31,
   "metadata": {},
   "outputs": [],
   "source": [
    "split(agri_product)\n",
    "split(grocery_product)\n",
    "split(health_product)\n",
    "split(homecare_product)\n",
    "split(pet_product)\n",
    "split(skincare_product)"
   ]
  },
  {
   "cell_type": "code",
   "execution_count": 32,
   "metadata": {},
   "outputs": [
    {
     "data": {
      "text/html": [
       "<div>\n",
       "<style scoped>\n",
       "    .dataframe tbody tr th:only-of-type {\n",
       "        vertical-align: middle;\n",
       "    }\n",
       "\n",
       "    .dataframe tbody tr th {\n",
       "        vertical-align: top;\n",
       "    }\n",
       "\n",
       "    .dataframe thead th {\n",
       "        text-align: right;\n",
       "    }\n",
       "</style>\n",
       "<table border=\"1\" class=\"dataframe\">\n",
       "  <thead>\n",
       "    <tr style=\"text-align: right;\">\n",
       "      <th></th>\n",
       "      <th>product_name</th>\n",
       "      <th>Price</th>\n",
       "      <th>rating</th>\n",
       "    </tr>\n",
       "  </thead>\n",
       "  <tbody>\n",
       "    <tr>\n",
       "      <th>385</th>\n",
       "      <td>Agricultural Policies in Emerging and Transiti...</td>\n",
       "      <td>1498.50</td>\n",
       "      <td>NaN</td>\n",
       "    </tr>\n",
       "    <tr>\n",
       "      <th>386</th>\n",
       "      <td>GACILÃ‚Â® Manganese Sulphate Mono hydrate Micr...</td>\n",
       "      <td>285.86</td>\n",
       "      <td>NaN</td>\n",
       "    </tr>\n",
       "    <tr>\n",
       "      <th>387</th>\n",
       "      <td>ErwonÃ‚Â® Single Super Phosphate Fertilizer, P...</td>\n",
       "      <td>904.57</td>\n",
       "      <td>4.1</td>\n",
       "    </tr>\n",
       "    <tr>\n",
       "      <th>388</th>\n",
       "      <td>Greenedge Biotech Greenedge Organic Seaweed (2...</td>\n",
       "      <td>442.25</td>\n",
       "      <td>4.5</td>\n",
       "    </tr>\n",
       "    <tr>\n",
       "      <th>389</th>\n",
       "      <td>ZINC SULPHATE 33% BY UTTAM 1KG PACK</td>\n",
       "      <td>108.40</td>\n",
       "      <td>NaN</td>\n",
       "    </tr>\n",
       "  </tbody>\n",
       "</table>\n",
       "</div>"
      ],
      "text/plain": [
       "                                          product_name    Price  rating\n",
       "385  Agricultural Policies in Emerging and Transiti...  1498.50     NaN\n",
       "386  GACILÃ‚Â® Manganese Sulphate Mono hydrate Micr...   285.86     NaN\n",
       "387  ErwonÃ‚Â® Single Super Phosphate Fertilizer, P...   904.57     4.1\n",
       "388  Greenedge Biotech Greenedge Organic Seaweed (2...   442.25     4.5\n",
       "389                ZINC SULPHATE 33% BY UTTAM 1KG PACK   108.40     NaN"
      ]
     },
     "execution_count": 32,
     "metadata": {},
     "output_type": "execute_result"
    }
   ],
   "source": [
    "agri_product.tail()"
   ]
  },
  {
   "cell_type": "markdown",
   "metadata": {},
   "source": [
    "# Finding Null Values"
   ]
  },
  {
   "cell_type": "code",
   "execution_count": 33,
   "metadata": {},
   "outputs": [
    {
     "data": {
      "text/plain": [
       "product_name      0\n",
       "Price             0\n",
       "rating          189\n",
       "dtype: int64"
      ]
     },
     "execution_count": 33,
     "metadata": {},
     "output_type": "execute_result"
    }
   ],
   "source": [
    "agri_product.isnull().sum()"
   ]
  },
  {
   "cell_type": "code",
   "execution_count": 34,
   "metadata": {},
   "outputs": [
    {
     "data": {
      "text/plain": [
       "product_name     0\n",
       "date             0\n",
       "quantity_sold    0\n",
       "revenue          0\n",
       "customer_id      0\n",
       "dtype: int64"
      ]
     },
     "execution_count": 34,
     "metadata": {},
     "output_type": "execute_result"
    }
   ],
   "source": [
    "agri_sales.isnull().sum()"
   ]
  },
  {
   "cell_type": "code",
   "execution_count": 35,
   "metadata": {},
   "outputs": [
    {
     "data": {
      "text/plain": [
       "product_name     0\n",
       "Price            0\n",
       "rating          42\n",
       "dtype: int64"
      ]
     },
     "execution_count": 35,
     "metadata": {},
     "output_type": "execute_result"
    }
   ],
   "source": [
    "grocery_product.isnull().sum()"
   ]
  },
  {
   "cell_type": "code",
   "execution_count": 36,
   "metadata": {},
   "outputs": [
    {
     "data": {
      "text/plain": [
       "product_name     0\n",
       "date             0\n",
       "quantity_sold    0\n",
       "revenue          0\n",
       "customer_id      0\n",
       "dtype: int64"
      ]
     },
     "execution_count": 36,
     "metadata": {},
     "output_type": "execute_result"
    }
   ],
   "source": [
    "grocery_sales.isnull().sum()"
   ]
  },
  {
   "cell_type": "code",
   "execution_count": 37,
   "metadata": {},
   "outputs": [
    {
     "data": {
      "text/plain": [
       "product_name     0\n",
       "Price            0\n",
       "rating          54\n",
       "dtype: int64"
      ]
     },
     "execution_count": 37,
     "metadata": {},
     "output_type": "execute_result"
    }
   ],
   "source": [
    "health_product.isnull().sum()"
   ]
  },
  {
   "cell_type": "code",
   "execution_count": 38,
   "metadata": {},
   "outputs": [
    {
     "data": {
      "text/plain": [
       "product_name     0\n",
       "date             0\n",
       "quantity_sold    0\n",
       "revenue          0\n",
       "customer_id      0\n",
       "dtype: int64"
      ]
     },
     "execution_count": 38,
     "metadata": {},
     "output_type": "execute_result"
    }
   ],
   "source": [
    "health_sales.isnull().sum()"
   ]
  },
  {
   "cell_type": "code",
   "execution_count": 39,
   "metadata": {},
   "outputs": [
    {
     "data": {
      "text/plain": [
       "product_name     0\n",
       "Price            0\n",
       "rating          15\n",
       "dtype: int64"
      ]
     },
     "execution_count": 39,
     "metadata": {},
     "output_type": "execute_result"
    }
   ],
   "source": [
    "homecare_product.isnull().sum()"
   ]
  },
  {
   "cell_type": "code",
   "execution_count": 40,
   "metadata": {},
   "outputs": [
    {
     "data": {
      "text/plain": [
       "product_name     0\n",
       "date             0\n",
       "quantity_sold    0\n",
       "revenue          0\n",
       "customer_id      0\n",
       "dtype: int64"
      ]
     },
     "execution_count": 40,
     "metadata": {},
     "output_type": "execute_result"
    }
   ],
   "source": [
    "homecare_sales.isnull().sum()"
   ]
  },
  {
   "cell_type": "code",
   "execution_count": 41,
   "metadata": {},
   "outputs": [
    {
     "data": {
      "text/plain": [
       "product_name     0\n",
       "Price            0\n",
       "rating          62\n",
       "dtype: int64"
      ]
     },
     "execution_count": 41,
     "metadata": {},
     "output_type": "execute_result"
    }
   ],
   "source": [
    "pet_product.isnull().sum()"
   ]
  },
  {
   "cell_type": "code",
   "execution_count": 42,
   "metadata": {},
   "outputs": [
    {
     "data": {
      "text/plain": [
       "product_name     0\n",
       "date             0\n",
       "quantity_sold    0\n",
       "revenue          0\n",
       "customer_id      0\n",
       "dtype: int64"
      ]
     },
     "execution_count": 42,
     "metadata": {},
     "output_type": "execute_result"
    }
   ],
   "source": [
    "pet_sales.isnull().sum()"
   ]
  },
  {
   "cell_type": "code",
   "execution_count": 43,
   "metadata": {},
   "outputs": [
    {
     "data": {
      "text/plain": [
       "product_name     0\n",
       "Price            0\n",
       "rating          14\n",
       "dtype: int64"
      ]
     },
     "execution_count": 43,
     "metadata": {},
     "output_type": "execute_result"
    }
   ],
   "source": [
    "skincare_product.isnull().sum()"
   ]
  },
  {
   "cell_type": "code",
   "execution_count": 44,
   "metadata": {},
   "outputs": [
    {
     "data": {
      "text/plain": [
       "product_name     0\n",
       "date             0\n",
       "quantity_sold    0\n",
       "revenue          0\n",
       "customer_id      0\n",
       "dtype: int64"
      ]
     },
     "execution_count": 44,
     "metadata": {},
     "output_type": "execute_result"
    }
   ],
   "source": [
    "skincare_sales.isnull().sum()"
   ]
  },
  {
   "cell_type": "markdown",
   "metadata": {},
   "source": [
    "# Function for Handling Null Values"
   ]
  },
  {
   "cell_type": "code",
   "execution_count": 45,
   "metadata": {},
   "outputs": [],
   "source": [
    "def fill_null(table_name):\n",
    "\n",
    "    table_name.fillna(0, inplace = True)"
   ]
  },
  {
   "cell_type": "code",
   "execution_count": 46,
   "metadata": {},
   "outputs": [],
   "source": [
    "fill_null(agri_product)\n",
    "fill_null(grocery_product)\n",
    "fill_null(health_product)\n",
    "fill_null(homecare_product)\n",
    "fill_null(pet_product)\n",
    "fill_null(skincare_product)"
   ]
  },
  {
   "cell_type": "code",
   "execution_count": 47,
   "metadata": {},
   "outputs": [
    {
     "data": {
      "text/plain": [
       "product_name    0\n",
       "Price           0\n",
       "rating          0\n",
       "dtype: int64"
      ]
     },
     "execution_count": 47,
     "metadata": {},
     "output_type": "execute_result"
    }
   ],
   "source": [
    "agri_product.isnull().sum()"
   ]
  },
  {
   "cell_type": "code",
   "execution_count": 48,
   "metadata": {},
   "outputs": [
    {
     "data": {
      "text/html": [
       "<div>\n",
       "<style scoped>\n",
       "    .dataframe tbody tr th:only-of-type {\n",
       "        vertical-align: middle;\n",
       "    }\n",
       "\n",
       "    .dataframe tbody tr th {\n",
       "        vertical-align: top;\n",
       "    }\n",
       "\n",
       "    .dataframe thead th {\n",
       "        text-align: right;\n",
       "    }\n",
       "</style>\n",
       "<table border=\"1\" class=\"dataframe\">\n",
       "  <thead>\n",
       "    <tr style=\"text-align: right;\">\n",
       "      <th></th>\n",
       "      <th>product_name</th>\n",
       "      <th>Price</th>\n",
       "      <th>rating</th>\n",
       "    </tr>\n",
       "  </thead>\n",
       "  <tbody>\n",
       "    <tr>\n",
       "      <th>385</th>\n",
       "      <td>Agricultural Policies in Emerging and Transiti...</td>\n",
       "      <td>1498.50</td>\n",
       "      <td>0.0</td>\n",
       "    </tr>\n",
       "    <tr>\n",
       "      <th>386</th>\n",
       "      <td>GACILÃ‚Â® Manganese Sulphate Mono hydrate Micr...</td>\n",
       "      <td>285.86</td>\n",
       "      <td>0.0</td>\n",
       "    </tr>\n",
       "    <tr>\n",
       "      <th>387</th>\n",
       "      <td>ErwonÃ‚Â® Single Super Phosphate Fertilizer, P...</td>\n",
       "      <td>904.57</td>\n",
       "      <td>4.1</td>\n",
       "    </tr>\n",
       "    <tr>\n",
       "      <th>388</th>\n",
       "      <td>Greenedge Biotech Greenedge Organic Seaweed (2...</td>\n",
       "      <td>442.25</td>\n",
       "      <td>4.5</td>\n",
       "    </tr>\n",
       "    <tr>\n",
       "      <th>389</th>\n",
       "      <td>ZINC SULPHATE 33% BY UTTAM 1KG PACK</td>\n",
       "      <td>108.40</td>\n",
       "      <td>0.0</td>\n",
       "    </tr>\n",
       "  </tbody>\n",
       "</table>\n",
       "</div>"
      ],
      "text/plain": [
       "                                          product_name    Price  rating\n",
       "385  Agricultural Policies in Emerging and Transiti...  1498.50     0.0\n",
       "386  GACILÃ‚Â® Manganese Sulphate Mono hydrate Micr...   285.86     0.0\n",
       "387  ErwonÃ‚Â® Single Super Phosphate Fertilizer, P...   904.57     4.1\n",
       "388  Greenedge Biotech Greenedge Organic Seaweed (2...   442.25     4.5\n",
       "389                ZINC SULPHATE 33% BY UTTAM 1KG PACK   108.40     0.0"
      ]
     },
     "execution_count": 48,
     "metadata": {},
     "output_type": "execute_result"
    }
   ],
   "source": [
    "agri_product.tail()"
   ]
  },
  {
   "cell_type": "markdown",
   "metadata": {},
   "source": [
    "# Function for Extract Month and Year from date Column"
   ]
  },
  {
   "cell_type": "code",
   "execution_count": 49,
   "metadata": {},
   "outputs": [],
   "source": [
    "def extract(table_name):\n",
    "\n",
    "    table_name['date'] = pd.to_datetime(table_name['date'])\n",
    "\n",
    "    table_name['month'] = table_name['date'].dt.month\n",
    "    table_name['year'] = table_name['date'].dt.year"
   ]
  },
  {
   "cell_type": "code",
   "execution_count": 50,
   "metadata": {},
   "outputs": [],
   "source": [
    "extract(agri_sales)\n",
    "extract(grocery_sales)\n",
    "extract(health_sales)\n",
    "extract(homecare_sales)\n",
    "extract(pet_sales)\n",
    "extract(skincare_sales)"
   ]
  },
  {
   "cell_type": "code",
   "execution_count": 51,
   "metadata": {},
   "outputs": [
    {
     "data": {
      "text/html": [
       "<div>\n",
       "<style scoped>\n",
       "    .dataframe tbody tr th:only-of-type {\n",
       "        vertical-align: middle;\n",
       "    }\n",
       "\n",
       "    .dataframe tbody tr th {\n",
       "        vertical-align: top;\n",
       "    }\n",
       "\n",
       "    .dataframe thead th {\n",
       "        text-align: right;\n",
       "    }\n",
       "</style>\n",
       "<table border=\"1\" class=\"dataframe\">\n",
       "  <thead>\n",
       "    <tr style=\"text-align: right;\">\n",
       "      <th></th>\n",
       "      <th>product_name</th>\n",
       "      <th>date</th>\n",
       "      <th>quantity_sold</th>\n",
       "      <th>revenue</th>\n",
       "      <th>customer_id</th>\n",
       "      <th>month</th>\n",
       "      <th>year</th>\n",
       "    </tr>\n",
       "  </thead>\n",
       "  <tbody>\n",
       "    <tr>\n",
       "      <th>0</th>\n",
       "      <td>OrganoMagic Liquid Plant Booster | Speed Growt...</td>\n",
       "      <td>2023-10-21</td>\n",
       "      <td>4.0</td>\n",
       "      <td>1106.60</td>\n",
       "      <td>CUST_5774</td>\n",
       "      <td>10</td>\n",
       "      <td>2023</td>\n",
       "    </tr>\n",
       "    <tr>\n",
       "      <th>1</th>\n",
       "      <td>OrganoMagic Liquid Plant Booster | Speed Growt...</td>\n",
       "      <td>2023-11-08</td>\n",
       "      <td>4.0</td>\n",
       "      <td>1106.60</td>\n",
       "      <td>CUST_4801</td>\n",
       "      <td>11</td>\n",
       "      <td>2023</td>\n",
       "    </tr>\n",
       "    <tr>\n",
       "      <th>2</th>\n",
       "      <td>OrganoMagic Liquid Plant Booster | Speed Growt...</td>\n",
       "      <td>2024-05-18</td>\n",
       "      <td>17.0</td>\n",
       "      <td>4703.05</td>\n",
       "      <td>CUST_2065</td>\n",
       "      <td>5</td>\n",
       "      <td>2024</td>\n",
       "    </tr>\n",
       "    <tr>\n",
       "      <th>3</th>\n",
       "      <td>IFFCO Urban Gardens - Sea Secret - 1Kg - Seawe...</td>\n",
       "      <td>2024-01-03</td>\n",
       "      <td>4.0</td>\n",
       "      <td>6418.52</td>\n",
       "      <td>CUST_2149</td>\n",
       "      <td>1</td>\n",
       "      <td>2024</td>\n",
       "    </tr>\n",
       "    <tr>\n",
       "      <th>4</th>\n",
       "      <td>IFFCO Urban Gardens - Sea Secret - 1Kg - Seawe...</td>\n",
       "      <td>2023-12-05</td>\n",
       "      <td>6.0</td>\n",
       "      <td>9627.78</td>\n",
       "      <td>CUST_2478</td>\n",
       "      <td>12</td>\n",
       "      <td>2023</td>\n",
       "    </tr>\n",
       "  </tbody>\n",
       "</table>\n",
       "</div>"
      ],
      "text/plain": [
       "                                        product_name       date  \\\n",
       "0  OrganoMagic Liquid Plant Booster | Speed Growt... 2023-10-21   \n",
       "1  OrganoMagic Liquid Plant Booster | Speed Growt... 2023-11-08   \n",
       "2  OrganoMagic Liquid Plant Booster | Speed Growt... 2024-05-18   \n",
       "3  IFFCO Urban Gardens - Sea Secret - 1Kg - Seawe... 2024-01-03   \n",
       "4  IFFCO Urban Gardens - Sea Secret - 1Kg - Seawe... 2023-12-05   \n",
       "\n",
       "   quantity_sold  revenue customer_id  month  year  \n",
       "0            4.0  1106.60   CUST_5774     10  2023  \n",
       "1            4.0  1106.60   CUST_4801     11  2023  \n",
       "2           17.0  4703.05   CUST_2065      5  2024  \n",
       "3            4.0  6418.52   CUST_2149      1  2024  \n",
       "4            6.0  9627.78   CUST_2478     12  2023  "
      ]
     },
     "execution_count": 51,
     "metadata": {},
     "output_type": "execute_result"
    }
   ],
   "source": [
    "agri_sales.head()"
   ]
  },
  {
   "cell_type": "markdown",
   "metadata": {},
   "source": [
    "# Creating a new Feature for Category"
   ]
  },
  {
   "cell_type": "code",
   "execution_count": 52,
   "metadata": {},
   "outputs": [],
   "source": [
    "agri_product['category'] = 'agriculture'\n",
    "grocery_product['category'] = 'grocery'\n",
    "health_product['category'] = 'healthcare'\n",
    "homecare_product['category'] = 'homecare'\n",
    "pet_product['category'] = 'pet'\n",
    "skincare_product['category'] = 'skincare'"
   ]
  },
  {
   "cell_type": "code",
   "execution_count": 53,
   "metadata": {},
   "outputs": [
    {
     "data": {
      "text/html": [
       "<div>\n",
       "<style scoped>\n",
       "    .dataframe tbody tr th:only-of-type {\n",
       "        vertical-align: middle;\n",
       "    }\n",
       "\n",
       "    .dataframe tbody tr th {\n",
       "        vertical-align: top;\n",
       "    }\n",
       "\n",
       "    .dataframe thead th {\n",
       "        text-align: right;\n",
       "    }\n",
       "</style>\n",
       "<table border=\"1\" class=\"dataframe\">\n",
       "  <thead>\n",
       "    <tr style=\"text-align: right;\">\n",
       "      <th></th>\n",
       "      <th>product_name</th>\n",
       "      <th>Price</th>\n",
       "      <th>rating</th>\n",
       "      <th>category</th>\n",
       "    </tr>\n",
       "  </thead>\n",
       "  <tbody>\n",
       "    <tr>\n",
       "      <th>0</th>\n",
       "      <td>Henlo Everyday Nutrition Topper | Dog Suppleme...</td>\n",
       "      <td>1390.59</td>\n",
       "      <td>4.0</td>\n",
       "      <td>pet</td>\n",
       "    </tr>\n",
       "    <tr>\n",
       "      <th>1</th>\n",
       "      <td>POOCH &amp; FURR (600 ML) Omega 3 + 6 + 9 Alaskan ...</td>\n",
       "      <td>676.98</td>\n",
       "      <td>4.2</td>\n",
       "      <td>pet</td>\n",
       "    </tr>\n",
       "    <tr>\n",
       "      <th>2</th>\n",
       "      <td>PET360 Omega 3+6 Concentrated Salmon Fish Oil ...</td>\n",
       "      <td>284.07</td>\n",
       "      <td>4.0</td>\n",
       "      <td>pet</td>\n",
       "    </tr>\n",
       "    <tr>\n",
       "      <th>3</th>\n",
       "      <td>NICEWAY INDIA Nicecal Companion Care Calcium S...</td>\n",
       "      <td>415.40</td>\n",
       "      <td>0.0</td>\n",
       "      <td>pet</td>\n",
       "    </tr>\n",
       "    <tr>\n",
       "      <th>4</th>\n",
       "      <td>Drools Absolute Dog Supplement Tablet, Skin + ...</td>\n",
       "      <td>1366.15</td>\n",
       "      <td>4.3</td>\n",
       "      <td>pet</td>\n",
       "    </tr>\n",
       "  </tbody>\n",
       "</table>\n",
       "</div>"
      ],
      "text/plain": [
       "                                        product_name    Price  rating category\n",
       "0  Henlo Everyday Nutrition Topper | Dog Suppleme...  1390.59     4.0      pet\n",
       "1  POOCH & FURR (600 ML) Omega 3 + 6 + 9 Alaskan ...   676.98     4.2      pet\n",
       "2  PET360 Omega 3+6 Concentrated Salmon Fish Oil ...   284.07     4.0      pet\n",
       "3  NICEWAY INDIA Nicecal Companion Care Calcium S...   415.40     0.0      pet\n",
       "4  Drools Absolute Dog Supplement Tablet, Skin + ...  1366.15     4.3      pet"
      ]
     },
     "execution_count": 53,
     "metadata": {},
     "output_type": "execute_result"
    }
   ],
   "source": [
    "pet_product.head()"
   ]
  },
  {
   "cell_type": "code",
   "execution_count": 54,
   "metadata": {},
   "outputs": [],
   "source": [
    "agri_sales['category'] = 'agriculture'\n",
    "grocery_sales['category'] = 'grocery'\n",
    "health_sales['category'] = 'healthcare'\n",
    "homecare_sales['category'] = 'homecare'\n",
    "pet_sales['category'] = 'pet'\n",
    "skincare_sales['category'] = 'skincare'"
   ]
  },
  {
   "cell_type": "code",
   "execution_count": 55,
   "metadata": {},
   "outputs": [
    {
     "data": {
      "text/html": [
       "<div>\n",
       "<style scoped>\n",
       "    .dataframe tbody tr th:only-of-type {\n",
       "        vertical-align: middle;\n",
       "    }\n",
       "\n",
       "    .dataframe tbody tr th {\n",
       "        vertical-align: top;\n",
       "    }\n",
       "\n",
       "    .dataframe thead th {\n",
       "        text-align: right;\n",
       "    }\n",
       "</style>\n",
       "<table border=\"1\" class=\"dataframe\">\n",
       "  <thead>\n",
       "    <tr style=\"text-align: right;\">\n",
       "      <th></th>\n",
       "      <th>product_name</th>\n",
       "      <th>date</th>\n",
       "      <th>quantity_sold</th>\n",
       "      <th>revenue</th>\n",
       "      <th>customer_id</th>\n",
       "      <th>month</th>\n",
       "      <th>year</th>\n",
       "      <th>category</th>\n",
       "    </tr>\n",
       "  </thead>\n",
       "  <tbody>\n",
       "    <tr>\n",
       "      <th>0</th>\n",
       "      <td>Brinton GlowNise Deep Cleansing Foam Face Wash...</td>\n",
       "      <td>2024-01-10</td>\n",
       "      <td>1.0</td>\n",
       "      <td>1839.83</td>\n",
       "      <td>CUST_9256</td>\n",
       "      <td>1</td>\n",
       "      <td>2024</td>\n",
       "      <td>skincare</td>\n",
       "    </tr>\n",
       "    <tr>\n",
       "      <th>1</th>\n",
       "      <td>Brinton GlowNise Deep Cleansing Foam Face Wash...</td>\n",
       "      <td>2024-08-01</td>\n",
       "      <td>4.0</td>\n",
       "      <td>7359.32</td>\n",
       "      <td>CUST_3778</td>\n",
       "      <td>8</td>\n",
       "      <td>2024</td>\n",
       "      <td>skincare</td>\n",
       "    </tr>\n",
       "    <tr>\n",
       "      <th>2</th>\n",
       "      <td>Brinton GlowNise Deep Cleansing Foam Face Wash...</td>\n",
       "      <td>2024-02-12</td>\n",
       "      <td>6.0</td>\n",
       "      <td>11038.98</td>\n",
       "      <td>CUST_1232</td>\n",
       "      <td>2</td>\n",
       "      <td>2024</td>\n",
       "      <td>skincare</td>\n",
       "    </tr>\n",
       "    <tr>\n",
       "      <th>3</th>\n",
       "      <td>Brinton GlowNise Deep Cleansing Foam Face Wash...</td>\n",
       "      <td>2023-11-30</td>\n",
       "      <td>13.0</td>\n",
       "      <td>23917.79</td>\n",
       "      <td>CUST_1657</td>\n",
       "      <td>11</td>\n",
       "      <td>2023</td>\n",
       "      <td>skincare</td>\n",
       "    </tr>\n",
       "    <tr>\n",
       "      <th>4</th>\n",
       "      <td>Brinton GlowNise Deep Cleansing Foam Face Wash...</td>\n",
       "      <td>2024-05-18</td>\n",
       "      <td>7.0</td>\n",
       "      <td>12878.81</td>\n",
       "      <td>CUST_7338</td>\n",
       "      <td>5</td>\n",
       "      <td>2024</td>\n",
       "      <td>skincare</td>\n",
       "    </tr>\n",
       "  </tbody>\n",
       "</table>\n",
       "</div>"
      ],
      "text/plain": [
       "                                        product_name       date  \\\n",
       "0  Brinton GlowNise Deep Cleansing Foam Face Wash... 2024-01-10   \n",
       "1  Brinton GlowNise Deep Cleansing Foam Face Wash... 2024-08-01   \n",
       "2  Brinton GlowNise Deep Cleansing Foam Face Wash... 2024-02-12   \n",
       "3  Brinton GlowNise Deep Cleansing Foam Face Wash... 2023-11-30   \n",
       "4  Brinton GlowNise Deep Cleansing Foam Face Wash... 2024-05-18   \n",
       "\n",
       "   quantity_sold   revenue customer_id  month  year  category  \n",
       "0            1.0   1839.83   CUST_9256      1  2024  skincare  \n",
       "1            4.0   7359.32   CUST_3778      8  2024  skincare  \n",
       "2            6.0  11038.98   CUST_1232      2  2024  skincare  \n",
       "3           13.0  23917.79   CUST_1657     11  2023  skincare  \n",
       "4            7.0  12878.81   CUST_7338      5  2024  skincare  "
      ]
     },
     "execution_count": 55,
     "metadata": {},
     "output_type": "execute_result"
    }
   ],
   "source": [
    "skincare_sales.head()"
   ]
  },
  {
   "cell_type": "markdown",
   "metadata": {},
   "source": [
    "# Merging All Product and Sales Dataset with Product Cetegory"
   ]
  },
  {
   "cell_type": "code",
   "execution_count": 56,
   "metadata": {},
   "outputs": [],
   "source": [
    "merged_product_data = pd.concat([agri_product, grocery_product, health_product, homecare_product, pet_product, skincare_product], axis=0)\n",
    "\n",
    "merged_sales_data = pd.concat([agri_sales, grocery_sales, health_sales, homecare_sales, pet_sales, skincare_sales], axis=0)"
   ]
  },
  {
   "cell_type": "code",
   "execution_count": 57,
   "metadata": {},
   "outputs": [
    {
     "data": {
      "text/html": [
       "<div>\n",
       "<style scoped>\n",
       "    .dataframe tbody tr th:only-of-type {\n",
       "        vertical-align: middle;\n",
       "    }\n",
       "\n",
       "    .dataframe tbody tr th {\n",
       "        vertical-align: top;\n",
       "    }\n",
       "\n",
       "    .dataframe thead th {\n",
       "        text-align: right;\n",
       "    }\n",
       "</style>\n",
       "<table border=\"1\" class=\"dataframe\">\n",
       "  <thead>\n",
       "    <tr style=\"text-align: right;\">\n",
       "      <th></th>\n",
       "      <th>product_name</th>\n",
       "      <th>Price</th>\n",
       "      <th>rating</th>\n",
       "      <th>category</th>\n",
       "    </tr>\n",
       "  </thead>\n",
       "  <tbody>\n",
       "    <tr>\n",
       "      <th>279</th>\n",
       "      <td>Lotion Face Cream Dispenser Airless Pump Jars ...</td>\n",
       "      <td>703.24</td>\n",
       "      <td>4.1</td>\n",
       "      <td>skincare</td>\n",
       "    </tr>\n",
       "    <tr>\n",
       "      <th>280</th>\n",
       "      <td>Maybelline New York Fit Me Fresh Tint, SPF 50 ...</td>\n",
       "      <td>144.74</td>\n",
       "      <td>3.8</td>\n",
       "      <td>skincare</td>\n",
       "    </tr>\n",
       "    <tr>\n",
       "      <th>281</th>\n",
       "      <td>Volamena All-in-1 Face Cream for Men: De-Tan F...</td>\n",
       "      <td>1252.23</td>\n",
       "      <td>3.7</td>\n",
       "      <td>skincare</td>\n",
       "    </tr>\n",
       "    <tr>\n",
       "      <th>282</th>\n",
       "      <td>RAS Luxury Oils Glow Boosting Beauties Gift Se...</td>\n",
       "      <td>740.23</td>\n",
       "      <td>3.3</td>\n",
       "      <td>skincare</td>\n",
       "    </tr>\n",
       "    <tr>\n",
       "      <th>283</th>\n",
       "      <td>Karrot Natural Skincare Carrot Hydrating Face ...</td>\n",
       "      <td>515.12</td>\n",
       "      <td>5.0</td>\n",
       "      <td>skincare</td>\n",
       "    </tr>\n",
       "  </tbody>\n",
       "</table>\n",
       "</div>"
      ],
      "text/plain": [
       "                                          product_name    Price  rating  \\\n",
       "279  Lotion Face Cream Dispenser Airless Pump Jars ...   703.24     4.1   \n",
       "280  Maybelline New York Fit Me Fresh Tint, SPF 50 ...   144.74     3.8   \n",
       "281  Volamena All-in-1 Face Cream for Men: De-Tan F...  1252.23     3.7   \n",
       "282  RAS Luxury Oils Glow Boosting Beauties Gift Se...   740.23     3.3   \n",
       "283  Karrot Natural Skincare Carrot Hydrating Face ...   515.12     5.0   \n",
       "\n",
       "     category  \n",
       "279  skincare  \n",
       "280  skincare  \n",
       "281  skincare  \n",
       "282  skincare  \n",
       "283  skincare  "
      ]
     },
     "execution_count": 57,
     "metadata": {},
     "output_type": "execute_result"
    }
   ],
   "source": [
    "merged_product_data.tail()"
   ]
  },
  {
   "cell_type": "code",
   "execution_count": 58,
   "metadata": {},
   "outputs": [
    {
     "data": {
      "text/html": [
       "<div>\n",
       "<style scoped>\n",
       "    .dataframe tbody tr th:only-of-type {\n",
       "        vertical-align: middle;\n",
       "    }\n",
       "\n",
       "    .dataframe tbody tr th {\n",
       "        vertical-align: top;\n",
       "    }\n",
       "\n",
       "    .dataframe thead th {\n",
       "        text-align: right;\n",
       "    }\n",
       "</style>\n",
       "<table border=\"1\" class=\"dataframe\">\n",
       "  <thead>\n",
       "    <tr style=\"text-align: right;\">\n",
       "      <th></th>\n",
       "      <th>product_name</th>\n",
       "      <th>date</th>\n",
       "      <th>quantity_sold</th>\n",
       "      <th>revenue</th>\n",
       "      <th>customer_id</th>\n",
       "      <th>month</th>\n",
       "      <th>year</th>\n",
       "      <th>category</th>\n",
       "    </tr>\n",
       "  </thead>\n",
       "  <tbody>\n",
       "    <tr>\n",
       "      <th>0</th>\n",
       "      <td>OrganoMagic Liquid Plant Booster | Speed Growt...</td>\n",
       "      <td>2023-10-21</td>\n",
       "      <td>4.0</td>\n",
       "      <td>1106.60</td>\n",
       "      <td>CUST_5774</td>\n",
       "      <td>10</td>\n",
       "      <td>2023</td>\n",
       "      <td>agriculture</td>\n",
       "    </tr>\n",
       "    <tr>\n",
       "      <th>1</th>\n",
       "      <td>OrganoMagic Liquid Plant Booster | Speed Growt...</td>\n",
       "      <td>2023-11-08</td>\n",
       "      <td>4.0</td>\n",
       "      <td>1106.60</td>\n",
       "      <td>CUST_4801</td>\n",
       "      <td>11</td>\n",
       "      <td>2023</td>\n",
       "      <td>agriculture</td>\n",
       "    </tr>\n",
       "    <tr>\n",
       "      <th>2</th>\n",
       "      <td>OrganoMagic Liquid Plant Booster | Speed Growt...</td>\n",
       "      <td>2024-05-18</td>\n",
       "      <td>17.0</td>\n",
       "      <td>4703.05</td>\n",
       "      <td>CUST_2065</td>\n",
       "      <td>5</td>\n",
       "      <td>2024</td>\n",
       "      <td>agriculture</td>\n",
       "    </tr>\n",
       "    <tr>\n",
       "      <th>3</th>\n",
       "      <td>IFFCO Urban Gardens - Sea Secret - 1Kg - Seawe...</td>\n",
       "      <td>2024-01-03</td>\n",
       "      <td>4.0</td>\n",
       "      <td>6418.52</td>\n",
       "      <td>CUST_2149</td>\n",
       "      <td>1</td>\n",
       "      <td>2024</td>\n",
       "      <td>agriculture</td>\n",
       "    </tr>\n",
       "    <tr>\n",
       "      <th>4</th>\n",
       "      <td>IFFCO Urban Gardens - Sea Secret - 1Kg - Seawe...</td>\n",
       "      <td>2023-12-05</td>\n",
       "      <td>6.0</td>\n",
       "      <td>9627.78</td>\n",
       "      <td>CUST_2478</td>\n",
       "      <td>12</td>\n",
       "      <td>2023</td>\n",
       "      <td>agriculture</td>\n",
       "    </tr>\n",
       "  </tbody>\n",
       "</table>\n",
       "</div>"
      ],
      "text/plain": [
       "                                        product_name       date  \\\n",
       "0  OrganoMagic Liquid Plant Booster | Speed Growt... 2023-10-21   \n",
       "1  OrganoMagic Liquid Plant Booster | Speed Growt... 2023-11-08   \n",
       "2  OrganoMagic Liquid Plant Booster | Speed Growt... 2024-05-18   \n",
       "3  IFFCO Urban Gardens - Sea Secret - 1Kg - Seawe... 2024-01-03   \n",
       "4  IFFCO Urban Gardens - Sea Secret - 1Kg - Seawe... 2023-12-05   \n",
       "\n",
       "   quantity_sold  revenue customer_id  month  year     category  \n",
       "0            4.0  1106.60   CUST_5774     10  2023  agriculture  \n",
       "1            4.0  1106.60   CUST_4801     11  2023  agriculture  \n",
       "2           17.0  4703.05   CUST_2065      5  2024  agriculture  \n",
       "3            4.0  6418.52   CUST_2149      1  2024  agriculture  \n",
       "4            6.0  9627.78   CUST_2478     12  2023  agriculture  "
      ]
     },
     "execution_count": 58,
     "metadata": {},
     "output_type": "execute_result"
    }
   ],
   "source": [
    "merged_sales_data.head()"
   ]
  },
  {
   "cell_type": "markdown",
   "metadata": {},
   "source": [
    "# Creating a new Feature with respect to Revenue Column"
   ]
  },
  {
   "cell_type": "code",
   "execution_count": 59,
   "metadata": {},
   "outputs": [],
   "source": [
    "bins = [0, 5000, 10000, 20000, 40000]  \n",
    "labels = ['Low', 'Mid', 'High', 'Premium']\n",
    "merged_sales_data['price_band'] = pd.cut(merged_sales_data['revenue'], bins=bins, labels=labels)"
   ]
  },
  {
   "cell_type": "code",
   "execution_count": 60,
   "metadata": {},
   "outputs": [
    {
     "data": {
      "text/html": [
       "<div>\n",
       "<style scoped>\n",
       "    .dataframe tbody tr th:only-of-type {\n",
       "        vertical-align: middle;\n",
       "    }\n",
       "\n",
       "    .dataframe tbody tr th {\n",
       "        vertical-align: top;\n",
       "    }\n",
       "\n",
       "    .dataframe thead th {\n",
       "        text-align: right;\n",
       "    }\n",
       "</style>\n",
       "<table border=\"1\" class=\"dataframe\">\n",
       "  <thead>\n",
       "    <tr style=\"text-align: right;\">\n",
       "      <th></th>\n",
       "      <th>product_name</th>\n",
       "      <th>date</th>\n",
       "      <th>quantity_sold</th>\n",
       "      <th>revenue</th>\n",
       "      <th>customer_id</th>\n",
       "      <th>month</th>\n",
       "      <th>year</th>\n",
       "      <th>category</th>\n",
       "      <th>price_band</th>\n",
       "    </tr>\n",
       "  </thead>\n",
       "  <tbody>\n",
       "    <tr>\n",
       "      <th>843</th>\n",
       "      <td>Mancode Skin Brightening Face Wash for Men - C...</td>\n",
       "      <td>2023-11-19</td>\n",
       "      <td>13.0</td>\n",
       "      <td>3869.19</td>\n",
       "      <td>CUST_3808</td>\n",
       "      <td>11</td>\n",
       "      <td>2023</td>\n",
       "      <td>skincare</td>\n",
       "      <td>Low</td>\n",
       "    </tr>\n",
       "    <tr>\n",
       "      <th>844</th>\n",
       "      <td>Mancode Skin Brightening Face Wash for Men - C...</td>\n",
       "      <td>2024-09-05</td>\n",
       "      <td>8.0</td>\n",
       "      <td>2381.04</td>\n",
       "      <td>CUST_4074</td>\n",
       "      <td>9</td>\n",
       "      <td>2024</td>\n",
       "      <td>skincare</td>\n",
       "      <td>Low</td>\n",
       "    </tr>\n",
       "    <tr>\n",
       "      <th>845</th>\n",
       "      <td>Mancode Skin Brightening Face Wash for Men - C...</td>\n",
       "      <td>2023-10-14</td>\n",
       "      <td>4.0</td>\n",
       "      <td>1190.52</td>\n",
       "      <td>CUST_5220</td>\n",
       "      <td>10</td>\n",
       "      <td>2023</td>\n",
       "      <td>skincare</td>\n",
       "      <td>Low</td>\n",
       "    </tr>\n",
       "    <tr>\n",
       "      <th>846</th>\n",
       "      <td>Mancode Skin Brightening Face Wash for Men - C...</td>\n",
       "      <td>2024-06-26</td>\n",
       "      <td>5.0</td>\n",
       "      <td>1488.15</td>\n",
       "      <td>CUST_5242</td>\n",
       "      <td>6</td>\n",
       "      <td>2024</td>\n",
       "      <td>skincare</td>\n",
       "      <td>Low</td>\n",
       "    </tr>\n",
       "    <tr>\n",
       "      <th>847</th>\n",
       "      <td>Lotion Face Cream Dispenser Airless Pump Jars ...</td>\n",
       "      <td>2024-04-11</td>\n",
       "      <td>10.0</td>\n",
       "      <td>7032.40</td>\n",
       "      <td>CUST_9388</td>\n",
       "      <td>4</td>\n",
       "      <td>2024</td>\n",
       "      <td>skincare</td>\n",
       "      <td>Mid</td>\n",
       "    </tr>\n",
       "  </tbody>\n",
       "</table>\n",
       "</div>"
      ],
      "text/plain": [
       "                                          product_name       date  \\\n",
       "843  Mancode Skin Brightening Face Wash for Men - C... 2023-11-19   \n",
       "844  Mancode Skin Brightening Face Wash for Men - C... 2024-09-05   \n",
       "845  Mancode Skin Brightening Face Wash for Men - C... 2023-10-14   \n",
       "846  Mancode Skin Brightening Face Wash for Men - C... 2024-06-26   \n",
       "847  Lotion Face Cream Dispenser Airless Pump Jars ... 2024-04-11   \n",
       "\n",
       "     quantity_sold  revenue customer_id  month  year  category price_band  \n",
       "843           13.0  3869.19   CUST_3808     11  2023  skincare        Low  \n",
       "844            8.0  2381.04   CUST_4074      9  2024  skincare        Low  \n",
       "845            4.0  1190.52   CUST_5220     10  2023  skincare        Low  \n",
       "846            5.0  1488.15   CUST_5242      6  2024  skincare        Low  \n",
       "847           10.0  7032.40   CUST_9388      4  2024  skincare        Mid  "
      ]
     },
     "execution_count": 60,
     "metadata": {},
     "output_type": "execute_result"
    }
   ],
   "source": [
    "merged_sales_data.tail()"
   ]
  },
  {
   "cell_type": "markdown",
   "metadata": {},
   "source": [
    "# Sales Performance"
   ]
  },
  {
   "cell_type": "markdown",
   "metadata": {},
   "source": [
    "# Total Sales"
   ]
  },
  {
   "cell_type": "code",
   "execution_count": 61,
   "metadata": {},
   "outputs": [
    {
     "name": "stdout",
     "output_type": "stream",
     "text": [
      "Total Sales: 4956.00\n"
     ]
    }
   ],
   "source": [
    "total_sales = merged_sales_data['customer_id'].count()\n",
    "\n",
    "print(f\"Total Sales: {total_sales:.2f}\")"
   ]
  },
  {
   "cell_type": "markdown",
   "metadata": {},
   "source": [
    "# Average Order Value (AOV)"
   ]
  },
  {
   "cell_type": "code",
   "execution_count": 62,
   "metadata": {},
   "outputs": [
    {
     "name": "stdout",
     "output_type": "stream",
     "text": [
      "Average Order Value (AOV): 11194.68667676156\n"
     ]
    }
   ],
   "source": [
    "order_count = merged_sales_data.groupby(['customer_id', 'date']).size().count()\n",
    "\n",
    "total_revenue = merged_sales_data['revenue'].sum()\n",
    "\n",
    "aov = total_revenue / order_count\n",
    "\n",
    "print(f\"Average Order Value (AOV): {aov}\")"
   ]
  },
  {
   "cell_type": "markdown",
   "metadata": {},
   "source": [
    "# Product Wise Sales"
   ]
  },
  {
   "cell_type": "code",
   "execution_count": 63,
   "metadata": {},
   "outputs": [
    {
     "data": {
      "text/html": [
       "<div>\n",
       "<style scoped>\n",
       "    .dataframe tbody tr th:only-of-type {\n",
       "        vertical-align: middle;\n",
       "    }\n",
       "\n",
       "    .dataframe tbody tr th {\n",
       "        vertical-align: top;\n",
       "    }\n",
       "\n",
       "    .dataframe thead th {\n",
       "        text-align: right;\n",
       "    }\n",
       "</style>\n",
       "<table border=\"1\" class=\"dataframe\">\n",
       "  <thead>\n",
       "    <tr style=\"text-align: right;\">\n",
       "      <th></th>\n",
       "      <th>product_name</th>\n",
       "      <th>total_sales</th>\n",
       "    </tr>\n",
       "  </thead>\n",
       "  <tbody>\n",
       "    <tr>\n",
       "      <th>967</th>\n",
       "      <td>PACK of 2 - COMBO - AGRI NANOTEK - 500g || AGR...</td>\n",
       "      <td>16</td>\n",
       "    </tr>\n",
       "    <tr>\n",
       "      <th>966</th>\n",
       "      <td>PACK of 2 - COMBO - AGRI NANOTEK - 250g || AGR...</td>\n",
       "      <td>15</td>\n",
       "    </tr>\n",
       "    <tr>\n",
       "      <th>893</th>\n",
       "      <td>Noor Skincare Face Oil for Glowing Skin &amp; Gua ...</td>\n",
       "      <td>12</td>\n",
       "    </tr>\n",
       "    <tr>\n",
       "      <th>323</th>\n",
       "      <td>Dabur Honey - 1kg | 100% Pure | World's No.1 H...</td>\n",
       "      <td>10</td>\n",
       "    </tr>\n",
       "    <tr>\n",
       "      <th>557</th>\n",
       "      <td>Grocery House Home Made Mukhwas &amp; Churan Black...</td>\n",
       "      <td>10</td>\n",
       "    </tr>\n",
       "    <tr>\n",
       "      <th>668</th>\n",
       "      <td>Impact of Climate Change on Agriculture</td>\n",
       "      <td>10</td>\n",
       "    </tr>\n",
       "    <tr>\n",
       "      <th>330</th>\n",
       "      <td>DeHaat Honest Farms Pesticide Free Raw Peanuts...</td>\n",
       "      <td>10</td>\n",
       "    </tr>\n",
       "    <tr>\n",
       "      <th>1255</th>\n",
       "      <td>Supplement to the Fifth Edition of Country Lif...</td>\n",
       "      <td>10</td>\n",
       "    </tr>\n",
       "    <tr>\n",
       "      <th>1499</th>\n",
       "      <td>WOW DOG Multivitamin Tablet Dog Supplement 120...</td>\n",
       "      <td>10</td>\n",
       "    </tr>\n",
       "    <tr>\n",
       "      <th>647</th>\n",
       "      <td>INLIFE Multivitamin for Dog Cat &amp; Pets | Ginse...</td>\n",
       "      <td>9</td>\n",
       "    </tr>\n",
       "  </tbody>\n",
       "</table>\n",
       "</div>"
      ],
      "text/plain": [
       "                                           product_name  total_sales\n",
       "967   PACK of 2 - COMBO - AGRI NANOTEK - 500g || AGR...           16\n",
       "966   PACK of 2 - COMBO - AGRI NANOTEK - 250g || AGR...           15\n",
       "893   Noor Skincare Face Oil for Glowing Skin & Gua ...           12\n",
       "323   Dabur Honey - 1kg | 100% Pure | World's No.1 H...           10\n",
       "557   Grocery House Home Made Mukhwas & Churan Black...           10\n",
       "668             Impact of Climate Change on Agriculture           10\n",
       "330   DeHaat Honest Farms Pesticide Free Raw Peanuts...           10\n",
       "1255  Supplement to the Fifth Edition of Country Lif...           10\n",
       "1499  WOW DOG Multivitamin Tablet Dog Supplement 120...           10\n",
       "647   INLIFE Multivitamin for Dog Cat & Pets | Ginse...            9"
      ]
     },
     "execution_count": 63,
     "metadata": {},
     "output_type": "execute_result"
    }
   ],
   "source": [
    "sales_per_product = merged_sales_data.groupby('product_name').agg(\n",
    "    total_sales=('customer_id', 'count')\n",
    ").reset_index()\n",
    "\n",
    "top_product = sales_per_product.sort_values(by ='total_sales', ascending=False)\n",
    "\n",
    "top_product.head(10)"
   ]
  },
  {
   "cell_type": "markdown",
   "metadata": {},
   "source": [
    "# Product Analysis"
   ]
  },
  {
   "cell_type": "markdown",
   "metadata": {},
   "source": [
    "# Most Popular Categories by Sales"
   ]
  },
  {
   "cell_type": "code",
   "execution_count": 64,
   "metadata": {},
   "outputs": [
    {
     "data": {
      "text/html": [
       "<div>\n",
       "<style scoped>\n",
       "    .dataframe tbody tr th:only-of-type {\n",
       "        vertical-align: middle;\n",
       "    }\n",
       "\n",
       "    .dataframe tbody tr th {\n",
       "        vertical-align: top;\n",
       "    }\n",
       "\n",
       "    .dataframe thead th {\n",
       "        text-align: right;\n",
       "    }\n",
       "</style>\n",
       "<table border=\"1\" class=\"dataframe\">\n",
       "  <thead>\n",
       "    <tr style=\"text-align: right;\">\n",
       "      <th></th>\n",
       "      <th>category</th>\n",
       "      <th>total_sales</th>\n",
       "    </tr>\n",
       "  </thead>\n",
       "  <tbody>\n",
       "    <tr>\n",
       "      <th>0</th>\n",
       "      <td>agriculture</td>\n",
       "      <td>1171</td>\n",
       "    </tr>\n",
       "    <tr>\n",
       "      <th>4</th>\n",
       "      <td>pet</td>\n",
       "      <td>1159</td>\n",
       "    </tr>\n",
       "    <tr>\n",
       "      <th>1</th>\n",
       "      <td>grocery</td>\n",
       "      <td>1122</td>\n",
       "    </tr>\n",
       "    <tr>\n",
       "      <th>5</th>\n",
       "      <td>skincare</td>\n",
       "      <td>848</td>\n",
       "    </tr>\n",
       "    <tr>\n",
       "      <th>2</th>\n",
       "      <td>healthcare</td>\n",
       "      <td>482</td>\n",
       "    </tr>\n",
       "    <tr>\n",
       "      <th>3</th>\n",
       "      <td>homecare</td>\n",
       "      <td>174</td>\n",
       "    </tr>\n",
       "  </tbody>\n",
       "</table>\n",
       "</div>"
      ],
      "text/plain": [
       "      category  total_sales\n",
       "0  agriculture         1171\n",
       "4          pet         1159\n",
       "1      grocery         1122\n",
       "5     skincare          848\n",
       "2   healthcare          482\n",
       "3     homecare          174"
      ]
     },
     "execution_count": 64,
     "metadata": {},
     "output_type": "execute_result"
    }
   ],
   "source": [
    "popular_categories = merged_sales_data.groupby('category').agg(\n",
    "    total_sales=('customer_id', 'count')\n",
    ").reset_index()\n",
    "\n",
    "most_popular_categories = popular_categories.sort_values(by='total_sales', ascending=False)\n",
    "\n",
    "most_popular_categories"
   ]
  },
  {
   "cell_type": "code",
   "execution_count": 65,
   "metadata": {},
   "outputs": [
    {
     "data": {
      "image/png": "[encoded data removed]",
      "text/plain": [
       "<Figure size 1000x500 with 1 Axes>"
      ]
     },
     "metadata": {},
     "output_type": "display_data"
    }
   ],
   "source": [
    "plt.figure(figsize=(10, 5))\n",
    "plt.bar(popular_categories['category'], popular_categories['total_sales'], color='green')\n",
    "plt.title('Most Popular Categories by Sales')\n",
    "plt.xlabel('Category')\n",
    "plt.ylabel('Total Revenue') \n",
    "plt.grid(axis='y')\n",
    "plt.show()"
   ]
  },
  {
   "cell_type": "markdown",
   "metadata": {},
   "source": [
    "# Price Range wise Sales"
   ]
  },
  {
   "cell_type": "code",
   "execution_count": 66,
   "metadata": {},
   "outputs": [
    {
     "name": "stderr",
     "output_type": "stream",
     "text": [
      "C:\\Users\\Admin\\AppData\\Local\\Temp\\ipykernel_7904\\960946185.py:1: FutureWarning: The default of observed=False is deprecated and will be changed to True in a future version of pandas. Pass observed=False to retain current behavior or observed=True to adopt the future default and silence this warning.\n",
      "  popular_price_points = merged_sales_data.groupby('price_band').agg(\n"
     ]
    },
    {
     "data": {
      "text/html": [
       "<div>\n",
       "<style scoped>\n",
       "    .dataframe tbody tr th:only-of-type {\n",
       "        vertical-align: middle;\n",
       "    }\n",
       "\n",
       "    .dataframe tbody tr th {\n",
       "        vertical-align: top;\n",
       "    }\n",
       "\n",
       "    .dataframe thead th {\n",
       "        text-align: right;\n",
       "    }\n",
       "</style>\n",
       "<table border=\"1\" class=\"dataframe\">\n",
       "  <thead>\n",
       "    <tr style=\"text-align: right;\">\n",
       "      <th></th>\n",
       "      <th>price_band</th>\n",
       "      <th>total_sales</th>\n",
       "    </tr>\n",
       "  </thead>\n",
       "  <tbody>\n",
       "    <tr>\n",
       "      <th>0</th>\n",
       "      <td>Low</td>\n",
       "      <td>1641</td>\n",
       "    </tr>\n",
       "    <tr>\n",
       "      <th>2</th>\n",
       "      <td>High</td>\n",
       "      <td>1281</td>\n",
       "    </tr>\n",
       "    <tr>\n",
       "      <th>1</th>\n",
       "      <td>Mid</td>\n",
       "      <td>1119</td>\n",
       "    </tr>\n",
       "    <tr>\n",
       "      <th>3</th>\n",
       "      <td>Premium</td>\n",
       "      <td>915</td>\n",
       "    </tr>\n",
       "  </tbody>\n",
       "</table>\n",
       "</div>"
      ],
      "text/plain": [
       "  price_band  total_sales\n",
       "0        Low         1641\n",
       "2       High         1281\n",
       "1        Mid         1119\n",
       "3    Premium          915"
      ]
     },
     "execution_count": 66,
     "metadata": {},
     "output_type": "execute_result"
    }
   ],
   "source": [
    "popular_price_points = merged_sales_data.groupby('price_band').agg(\n",
    "    total_sales=('customer_id', 'count')\n",
    ").reset_index()\n",
    "\n",
    "most_popular_price_points = popular_price_points.sort_values(by='total_sales', ascending=False)\n",
    "\n",
    "most_popular_price_points.head()"
   ]
  },
  {
   "cell_type": "code",
   "execution_count": 67,
   "metadata": {},
   "outputs": [
    {
     "data": {
      "image/png": "[encoded data removed]",
      "text/plain": [
       "<Figure size 800x600 with 1 Axes>"
      ]
     },
     "metadata": {},
     "output_type": "display_data"
    }
   ],
   "source": [
    "plt.figure(figsize=(8, 6))\n",
    "plt.bar(popular_price_points['price_band'], popular_price_points['total_sales'], color='green')\n",
    "plt.title('Price Range wise Sales')\n",
    "plt.xlabel('Price Band')\n",
    "plt.ylabel('Total Revenue')\n",
    "plt.grid(axis='y')\n",
    "plt.show()"
   ]
  },
  {
   "cell_type": "markdown",
   "metadata": {},
   "source": [
    "# Customer Analysis"
   ]
  },
  {
   "cell_type": "markdown",
   "metadata": {},
   "source": [
    "# Identify New vs. Returning Customer"
   ]
  },
  {
   "cell_type": "code",
   "execution_count": 68,
   "metadata": {},
   "outputs": [
    {
     "data": {
      "text/html": [
       "<div>\n",
       "<style scoped>\n",
       "    .dataframe tbody tr th:only-of-type {\n",
       "        vertical-align: middle;\n",
       "    }\n",
       "\n",
       "    .dataframe tbody tr th {\n",
       "        vertical-align: top;\n",
       "    }\n",
       "\n",
       "    .dataframe thead th {\n",
       "        text-align: right;\n",
       "    }\n",
       "</style>\n",
       "<table border=\"1\" class=\"dataframe\">\n",
       "  <thead>\n",
       "    <tr style=\"text-align: right;\">\n",
       "      <th></th>\n",
       "      <th>customer_id</th>\n",
       "      <th>order_count</th>\n",
       "      <th>first_order_date</th>\n",
       "      <th>customer_type</th>\n",
       "    </tr>\n",
       "  </thead>\n",
       "  <tbody>\n",
       "    <tr>\n",
       "      <th>3811</th>\n",
       "      <td>CUST_9981</td>\n",
       "      <td>1</td>\n",
       "      <td>2024-08-15</td>\n",
       "      <td>New</td>\n",
       "    </tr>\n",
       "    <tr>\n",
       "      <th>3812</th>\n",
       "      <td>CUST_9984</td>\n",
       "      <td>2</td>\n",
       "      <td>2024-03-05</td>\n",
       "      <td>Returning</td>\n",
       "    </tr>\n",
       "    <tr>\n",
       "      <th>3813</th>\n",
       "      <td>CUST_9990</td>\n",
       "      <td>1</td>\n",
       "      <td>2024-07-28</td>\n",
       "      <td>New</td>\n",
       "    </tr>\n",
       "    <tr>\n",
       "      <th>3814</th>\n",
       "      <td>CUST_9996</td>\n",
       "      <td>1</td>\n",
       "      <td>2024-02-15</td>\n",
       "      <td>New</td>\n",
       "    </tr>\n",
       "    <tr>\n",
       "      <th>3815</th>\n",
       "      <td>CUST_9997</td>\n",
       "      <td>1</td>\n",
       "      <td>2024-02-10</td>\n",
       "      <td>New</td>\n",
       "    </tr>\n",
       "  </tbody>\n",
       "</table>\n",
       "</div>"
      ],
      "text/plain": [
       "     customer_id  order_count first_order_date customer_type\n",
       "3811   CUST_9981            1       2024-08-15           New\n",
       "3812   CUST_9984            2       2024-03-05     Returning\n",
       "3813   CUST_9990            1       2024-07-28           New\n",
       "3814   CUST_9996            1       2024-02-15           New\n",
       "3815   CUST_9997            1       2024-02-10           New"
      ]
     },
     "execution_count": 68,
     "metadata": {},
     "output_type": "execute_result"
    }
   ],
   "source": [
    "user_orders = merged_sales_data.groupby('customer_id').agg(\n",
    "    order_count=('customer_id', 'count'),\n",
    "    first_order_date=('date', 'min')\n",
    ").reset_index()\n",
    "\n",
    "current_date = pd.to_datetime('today')\n",
    "\n",
    "user_orders['customer_type'] = user_orders['order_count'].apply(lambda x: 'New' if x == 1 else 'Returning')\n",
    "\n",
    "user_orders.tail()"
   ]
  },
  {
   "cell_type": "code",
   "execution_count": 69,
   "metadata": {},
   "outputs": [
    {
     "data": {
      "text/plain": [
       "customer_type\n",
       "New          2854\n",
       "Returning     962\n",
       "Name: count, dtype: int64"
      ]
     },
     "execution_count": 69,
     "metadata": {},
     "output_type": "execute_result"
    }
   ],
   "source": [
    "user_orders['customer_type'].value_counts()"
   ]
  },
  {
   "cell_type": "code",
   "execution_count": 70,
   "metadata": {},
   "outputs": [
    {
     "data": {
      "image/png": "[encoded data removed]",
      "text/plain": [
       "<Figure size 800x600 with 1 Axes>"
      ]
     },
     "metadata": {},
     "output_type": "display_data"
    }
   ],
   "source": [
    "user_type_counts = user_orders['customer_type'].value_counts()\n",
    "plt.figure(figsize=(8, 6))\n",
    "plt.pie(user_type_counts, labels=user_type_counts.index, autopct='%1.1f%%', startangle=90, colors=['lightblue', 'lightgreen'])\n",
    "plt.title('New vs Returning Users')\n",
    "plt.axis('equal')\n",
    "plt.show()"
   ]
  },
  {
   "cell_type": "markdown",
   "metadata": {},
   "source": [
    "# Revenue Analysis"
   ]
  },
  {
   "cell_type": "markdown",
   "metadata": {},
   "source": [
    "# Total Revenue"
   ]
  },
  {
   "cell_type": "code",
   "execution_count": 71,
   "metadata": {},
   "outputs": [
    {
     "name": "stdout",
     "output_type": "stream",
     "text": [
      "Total Revenue: 55447283.11\n"
     ]
    }
   ],
   "source": [
    "total_revenue = merged_sales_data['revenue'].sum()\n",
    "\n",
    "print(f\"Total Revenue: {total_revenue:.2f}\")\n"
   ]
  },
  {
   "cell_type": "markdown",
   "metadata": {},
   "source": [
    "# Month wise Revenue"
   ]
  },
  {
   "cell_type": "code",
   "execution_count": 72,
   "metadata": {},
   "outputs": [
    {
     "data": {
      "text/html": [
       "<div>\n",
       "<style scoped>\n",
       "    .dataframe tbody tr th:only-of-type {\n",
       "        vertical-align: middle;\n",
       "    }\n",
       "\n",
       "    .dataframe tbody tr th {\n",
       "        vertical-align: top;\n",
       "    }\n",
       "\n",
       "    .dataframe thead th {\n",
       "        text-align: right;\n",
       "    }\n",
       "</style>\n",
       "<table border=\"1\" class=\"dataframe\">\n",
       "  <thead>\n",
       "    <tr style=\"text-align: right;\">\n",
       "      <th></th>\n",
       "      <th>year</th>\n",
       "      <th>month</th>\n",
       "      <th>monthly_revenue</th>\n",
       "    </tr>\n",
       "  </thead>\n",
       "  <tbody>\n",
       "    <tr>\n",
       "      <th>0</th>\n",
       "      <td>2023</td>\n",
       "      <td>10</td>\n",
       "      <td>4103615.96</td>\n",
       "    </tr>\n",
       "    <tr>\n",
       "      <th>1</th>\n",
       "      <td>2023</td>\n",
       "      <td>11</td>\n",
       "      <td>4982451.07</td>\n",
       "    </tr>\n",
       "    <tr>\n",
       "      <th>2</th>\n",
       "      <td>2023</td>\n",
       "      <td>12</td>\n",
       "      <td>4630796.96</td>\n",
       "    </tr>\n",
       "    <tr>\n",
       "      <th>3</th>\n",
       "      <td>2024</td>\n",
       "      <td>1</td>\n",
       "      <td>4220799.63</td>\n",
       "    </tr>\n",
       "    <tr>\n",
       "      <th>4</th>\n",
       "      <td>2024</td>\n",
       "      <td>2</td>\n",
       "      <td>4545330.30</td>\n",
       "    </tr>\n",
       "    <tr>\n",
       "      <th>5</th>\n",
       "      <td>2024</td>\n",
       "      <td>3</td>\n",
       "      <td>4982564.13</td>\n",
       "    </tr>\n",
       "    <tr>\n",
       "      <th>6</th>\n",
       "      <td>2024</td>\n",
       "      <td>4</td>\n",
       "      <td>4463393.85</td>\n",
       "    </tr>\n",
       "    <tr>\n",
       "      <th>7</th>\n",
       "      <td>2024</td>\n",
       "      <td>5</td>\n",
       "      <td>4568677.43</td>\n",
       "    </tr>\n",
       "    <tr>\n",
       "      <th>8</th>\n",
       "      <td>2024</td>\n",
       "      <td>6</td>\n",
       "      <td>4580462.82</td>\n",
       "    </tr>\n",
       "    <tr>\n",
       "      <th>9</th>\n",
       "      <td>2024</td>\n",
       "      <td>7</td>\n",
       "      <td>4888707.69</td>\n",
       "    </tr>\n",
       "    <tr>\n",
       "      <th>10</th>\n",
       "      <td>2024</td>\n",
       "      <td>8</td>\n",
       "      <td>4540166.84</td>\n",
       "    </tr>\n",
       "    <tr>\n",
       "      <th>11</th>\n",
       "      <td>2024</td>\n",
       "      <td>9</td>\n",
       "      <td>4940316.43</td>\n",
       "    </tr>\n",
       "  </tbody>\n",
       "</table>\n",
       "</div>"
      ],
      "text/plain": [
       "    year  month  monthly_revenue\n",
       "0   2023     10       4103615.96\n",
       "1   2023     11       4982451.07\n",
       "2   2023     12       4630796.96\n",
       "3   2024      1       4220799.63\n",
       "4   2024      2       4545330.30\n",
       "5   2024      3       4982564.13\n",
       "6   2024      4       4463393.85\n",
       "7   2024      5       4568677.43\n",
       "8   2024      6       4580462.82\n",
       "9   2024      7       4888707.69\n",
       "10  2024      8       4540166.84\n",
       "11  2024      9       4940316.43"
      ]
     },
     "execution_count": 72,
     "metadata": {},
     "output_type": "execute_result"
    }
   ],
   "source": [
    "monthly_revenue = merged_sales_data.groupby(['year', 'month'])['revenue'].sum().reset_index()\n",
    "\n",
    "monthly_revenue.rename(columns={'revenue': 'monthly_revenue'}, inplace=True)\n",
    "\n",
    "monthly_revenue"
   ]
  },
  {
   "cell_type": "code",
   "execution_count": 73,
   "metadata": {},
   "outputs": [
    {
     "data": {
      "image/png": "[encoded data removed]",
      "text/plain": [
       "<Figure size 1200x600 with 1 Axes>"
      ]
     },
     "metadata": {},
     "output_type": "display_data"
    }
   ],
   "source": [
    "plt.figure(figsize=(12, 6))\n",
    "plt.plot(monthly_revenue['month'].astype(str), monthly_revenue['monthly_revenue'], marker='o')\n",
    "plt.title('Monthly Revenue')\n",
    "plt.xlabel('Month')\n",
    "plt.ylabel('Revenue')\n",
    "plt.grid()\n",
    "plt.show()"
   ]
  },
  {
   "cell_type": "markdown",
   "metadata": {},
   "source": [
    "# Analysing Monthly Revenue Growth"
   ]
  },
  {
   "cell_type": "code",
   "execution_count": 74,
   "metadata": {},
   "outputs": [
    {
     "data": {
      "text/html": [
       "<div>\n",
       "<style scoped>\n",
       "    .dataframe tbody tr th:only-of-type {\n",
       "        vertical-align: middle;\n",
       "    }\n",
       "\n",
       "    .dataframe tbody tr th {\n",
       "        vertical-align: top;\n",
       "    }\n",
       "\n",
       "    .dataframe thead th {\n",
       "        text-align: right;\n",
       "    }\n",
       "</style>\n",
       "<table border=\"1\" class=\"dataframe\">\n",
       "  <thead>\n",
       "    <tr style=\"text-align: right;\">\n",
       "      <th></th>\n",
       "      <th>year</th>\n",
       "      <th>month</th>\n",
       "      <th>monthly_revenue</th>\n",
       "      <th>monthly_revenue_growth</th>\n",
       "    </tr>\n",
       "  </thead>\n",
       "  <tbody>\n",
       "    <tr>\n",
       "      <th>0</th>\n",
       "      <td>2023</td>\n",
       "      <td>10</td>\n",
       "      <td>4103615.96</td>\n",
       "      <td>0.000000</td>\n",
       "    </tr>\n",
       "    <tr>\n",
       "      <th>1</th>\n",
       "      <td>2023</td>\n",
       "      <td>11</td>\n",
       "      <td>4982451.07</td>\n",
       "      <td>21.416115</td>\n",
       "    </tr>\n",
       "    <tr>\n",
       "      <th>2</th>\n",
       "      <td>2023</td>\n",
       "      <td>12</td>\n",
       "      <td>4630796.96</td>\n",
       "      <td>-7.057854</td>\n",
       "    </tr>\n",
       "    <tr>\n",
       "      <th>3</th>\n",
       "      <td>2024</td>\n",
       "      <td>1</td>\n",
       "      <td>4220799.63</td>\n",
       "      <td>-8.853710</td>\n",
       "    </tr>\n",
       "    <tr>\n",
       "      <th>4</th>\n",
       "      <td>2024</td>\n",
       "      <td>2</td>\n",
       "      <td>4545330.30</td>\n",
       "      <td>7.688843</td>\n",
       "    </tr>\n",
       "    <tr>\n",
       "      <th>5</th>\n",
       "      <td>2024</td>\n",
       "      <td>3</td>\n",
       "      <td>4982564.13</td>\n",
       "      <td>9.619407</td>\n",
       "    </tr>\n",
       "    <tr>\n",
       "      <th>6</th>\n",
       "      <td>2024</td>\n",
       "      <td>4</td>\n",
       "      <td>4463393.85</td>\n",
       "      <td>-10.419741</td>\n",
       "    </tr>\n",
       "    <tr>\n",
       "      <th>7</th>\n",
       "      <td>2024</td>\n",
       "      <td>5</td>\n",
       "      <td>4568677.43</td>\n",
       "      <td>2.358823</td>\n",
       "    </tr>\n",
       "    <tr>\n",
       "      <th>8</th>\n",
       "      <td>2024</td>\n",
       "      <td>6</td>\n",
       "      <td>4580462.82</td>\n",
       "      <td>0.257961</td>\n",
       "    </tr>\n",
       "    <tr>\n",
       "      <th>9</th>\n",
       "      <td>2024</td>\n",
       "      <td>7</td>\n",
       "      <td>4888707.69</td>\n",
       "      <td>6.729557</td>\n",
       "    </tr>\n",
       "    <tr>\n",
       "      <th>10</th>\n",
       "      <td>2024</td>\n",
       "      <td>8</td>\n",
       "      <td>4540166.84</td>\n",
       "      <td>-7.129509</td>\n",
       "    </tr>\n",
       "    <tr>\n",
       "      <th>11</th>\n",
       "      <td>2024</td>\n",
       "      <td>9</td>\n",
       "      <td>4940316.43</td>\n",
       "      <td>8.813544</td>\n",
       "    </tr>\n",
       "  </tbody>\n",
       "</table>\n",
       "</div>"
      ],
      "text/plain": [
       "    year  month  monthly_revenue  monthly_revenue_growth\n",
       "0   2023     10       4103615.96                0.000000\n",
       "1   2023     11       4982451.07               21.416115\n",
       "2   2023     12       4630796.96               -7.057854\n",
       "3   2024      1       4220799.63               -8.853710\n",
       "4   2024      2       4545330.30                7.688843\n",
       "5   2024      3       4982564.13                9.619407\n",
       "6   2024      4       4463393.85              -10.419741\n",
       "7   2024      5       4568677.43                2.358823\n",
       "8   2024      6       4580462.82                0.257961\n",
       "9   2024      7       4888707.69                6.729557\n",
       "10  2024      8       4540166.84               -7.129509\n",
       "11  2024      9       4940316.43                8.813544"
      ]
     },
     "execution_count": 74,
     "metadata": {},
     "output_type": "execute_result"
    }
   ],
   "source": [
    "monthly_revenue['monthly_revenue_growth'] = monthly_revenue['monthly_revenue'].pct_change() * 100\n",
    "\n",
    "monthly_revenue.fillna(0, inplace= True)\n",
    "\n",
    "monthly_revenue"
   ]
  },
  {
   "cell_type": "code",
   "execution_count": 75,
   "metadata": {},
   "outputs": [
    {
     "name": "stderr",
     "output_type": "stream",
     "text": [
      "C:\\Users\\Admin\\AppData\\Local\\Temp\\ipykernel_7904\\2282092928.py:2: FutureWarning: \n",
      "\n",
      "Passing `palette` without assigning `hue` is deprecated and will be removed in v0.14.0. Assign the `x` variable to `hue` and set `legend=False` for the same effect.\n",
      "\n",
      "  sns.barplot(x=monthly_revenue['month'].astype(str), y=monthly_revenue['monthly_revenue_growth'], palette='viridis')\n"
     ]
    },
    {
     "data": {
      "image/png": "[encoded data removed]",
      "text/plain": [
       "<Figure size 1200x600 with 1 Axes>"
      ]
     },
     "metadata": {},
     "output_type": "display_data"
    }
   ],
   "source": [
    "plt.figure(figsize=(12, 6))\n",
    "sns.barplot(x=monthly_revenue['month'].astype(str), y=monthly_revenue['monthly_revenue_growth'], palette='viridis')\n",
    "plt.title('Monthly Revenue Growth Percentage')\n",
    "plt.xlabel('Month')\n",
    "plt.ylabel('Growth (%)')\n",
    "plt.axhline(0, color='red', linestyle='--') \n",
    "plt.show()"
   ]
  },
  {
   "cell_type": "markdown",
   "metadata": {},
   "source": [
    "# Revenue by product Category"
   ]
  },
  {
   "cell_type": "code",
   "execution_count": 76,
   "metadata": {},
   "outputs": [
    {
     "data": {
      "text/html": [
       "<div>\n",
       "<style scoped>\n",
       "    .dataframe tbody tr th:only-of-type {\n",
       "        vertical-align: middle;\n",
       "    }\n",
       "\n",
       "    .dataframe tbody tr th {\n",
       "        vertical-align: top;\n",
       "    }\n",
       "\n",
       "    .dataframe thead th {\n",
       "        text-align: right;\n",
       "    }\n",
       "</style>\n",
       "<table border=\"1\" class=\"dataframe\">\n",
       "  <thead>\n",
       "    <tr style=\"text-align: right;\">\n",
       "      <th></th>\n",
       "      <th>category</th>\n",
       "      <th>total_revenue</th>\n",
       "    </tr>\n",
       "  </thead>\n",
       "  <tbody>\n",
       "    <tr>\n",
       "      <th>0</th>\n",
       "      <td>agriculture</td>\n",
       "      <td>13359034.40</td>\n",
       "    </tr>\n",
       "    <tr>\n",
       "      <th>1</th>\n",
       "      <td>grocery</td>\n",
       "      <td>13148588.35</td>\n",
       "    </tr>\n",
       "    <tr>\n",
       "      <th>2</th>\n",
       "      <td>healthcare</td>\n",
       "      <td>4753332.03</td>\n",
       "    </tr>\n",
       "    <tr>\n",
       "      <th>3</th>\n",
       "      <td>homecare</td>\n",
       "      <td>1993246.49</td>\n",
       "    </tr>\n",
       "    <tr>\n",
       "      <th>4</th>\n",
       "      <td>pet</td>\n",
       "      <td>12499625.34</td>\n",
       "    </tr>\n",
       "    <tr>\n",
       "      <th>5</th>\n",
       "      <td>skincare</td>\n",
       "      <td>9693456.50</td>\n",
       "    </tr>\n",
       "  </tbody>\n",
       "</table>\n",
       "</div>"
      ],
      "text/plain": [
       "      category  total_revenue\n",
       "0  agriculture    13359034.40\n",
       "1      grocery    13148588.35\n",
       "2   healthcare     4753332.03\n",
       "3     homecare     1993246.49\n",
       "4          pet    12499625.34\n",
       "5     skincare     9693456.50"
      ]
     },
     "execution_count": 76,
     "metadata": {},
     "output_type": "execute_result"
    }
   ],
   "source": [
    "revenue_by_categories = merged_sales_data.groupby('category').agg( \n",
    "    total_revenue=('revenue', 'sum') \n",
    ").reset_index()\n",
    "\n",
    "revenue_by_categories"
   ]
  },
  {
   "cell_type": "code",
   "execution_count": 77,
   "metadata": {},
   "outputs": [
    {
     "name": "stderr",
     "output_type": "stream",
     "text": [
      "C:\\Users\\Admin\\AppData\\Local\\Temp\\ipykernel_7904\\3643043128.py:2: FutureWarning: \n",
      "\n",
      "Passing `palette` without assigning `hue` is deprecated and will be removed in v0.14.0. Assign the `x` variable to `hue` and set `legend=False` for the same effect.\n",
      "\n",
      "  sns.barplot(data=revenue_by_categories, x='category', y='total_revenue', palette='viridis')\n"
     ]
    },
    {
     "data": {
      "image/png": "[encoded data removed]",
      "text/plain": [
       "<Figure size 1200x600 with 1 Axes>"
      ]
     },
     "metadata": {},
     "output_type": "display_data"
    }
   ],
   "source": [
    "plt.figure(figsize=(12, 6))\n",
    "sns.barplot(data=revenue_by_categories, x='category', y='total_revenue', palette='viridis')\n",
    "plt.title('Revenue by Product Category')\n",
    "plt.xlabel('Product Category')\n",
    "plt.ylabel('Revenue')\n",
    "plt.show()"
   ]
  },
  {
   "cell_type": "markdown",
   "metadata": {},
   "source": [
    "# Visualization"
   ]
  },
  {
   "cell_type": "markdown",
   "metadata": {},
   "source": [
    "# Distribution of Numerical Variables"
   ]
  },
  {
   "cell_type": "markdown",
   "metadata": {},
   "source": [
    "# a. Revenue Distribution"
   ]
  },
  {
   "cell_type": "code",
   "execution_count": 78,
   "metadata": {},
   "outputs": [
    {
     "data": {
      "image/png": "[encoded data removed]",
      "text/plain": [
       "<Figure size 1200x600 with 1 Axes>"
      ]
     },
     "metadata": {},
     "output_type": "display_data"
    }
   ],
   "source": [
    "sns.set(style=\"whitegrid\")\n",
    "\n",
    "plt.figure(figsize=(12, 6))\n",
    "sns.histplot(merged_sales_data['revenue'], bins=30, kde=True, color='blue')\n",
    "plt.title('Revenue Distribution')\n",
    "plt.xlabel('Revenue')\n",
    "plt.ylabel('Frequency')\n",
    "plt.axvline(merged_sales_data['revenue'].mean(), color='red', linestyle='--', label='Mean')\n",
    "plt.axvline(merged_sales_data['revenue'].median(), color='green', linestyle='--', label='Median')\n",
    "plt.legend()\n",
    "plt.show()"
   ]
  },
  {
   "cell_type": "markdown",
   "metadata": {},
   "source": [
    "# b. Product Price Distribution"
   ]
  },
  {
   "cell_type": "code",
   "execution_count": 79,
   "metadata": {},
   "outputs": [
    {
     "data": {
      "image/png": "[encoded data removed]",
      "text/plain": [
       "<Figure size 1200x600 with 1 Axes>"
      ]
     },
     "metadata": {},
     "output_type": "display_data"
    }
   ],
   "source": [
    "plt.figure(figsize=(12, 6))\n",
    "sns.histplot(merged_product_data['Price'], bins=30, kde=True, color='orange')\n",
    "plt.title('Product Price Distribution')\n",
    "plt.xlabel('Price')\n",
    "plt.ylabel('Frequency')\n",
    "plt.axvline(merged_product_data['Price'].mean(), color='red', linestyle='--', label='Mean')\n",
    "plt.axvline(merged_product_data['Price'].median(), color='green', linestyle='--', label='Median')\n",
    "plt.legend()\n",
    "plt.show()"
   ]
  },
  {
   "cell_type": "markdown",
   "metadata": {},
   "source": [
    "# c. Rating Distribution"
   ]
  },
  {
   "cell_type": "code",
   "execution_count": 80,
   "metadata": {},
   "outputs": [
    {
     "data": {
      "image/png": "[encoded data removed]",
      "text/plain": [
       "<Figure size 1200x600 with 1 Axes>"
      ]
     },
     "metadata": {},
     "output_type": "display_data"
    }
   ],
   "source": [
    "plt.figure(figsize=(12, 6))\n",
    "sns.histplot(merged_product_data['rating'], bins=30, kde=True, color='purple')\n",
    "plt.title('Rating Distribution')\n",
    "plt.xlabel('Rating')\n",
    "plt.ylabel('Frequency')\n",
    "plt.axvline(merged_product_data['rating'].mean(), color='red', linestyle='--', label='Mean')\n",
    "plt.axvline(merged_product_data['rating'].median(), color='green', linestyle='--', label='Median')\n",
    "plt.legend()\n",
    "plt.show()"
   ]
  },
  {
   "cell_type": "markdown",
   "metadata": {},
   "source": [
    "# Frequency of Categorical Variables"
   ]
  },
  {
   "cell_type": "markdown",
   "metadata": {},
   "source": [
    "# a. Product Category Count by Sales"
   ]
  },
  {
   "cell_type": "code",
   "execution_count": 81,
   "metadata": {},
   "outputs": [
    {
     "name": "stderr",
     "output_type": "stream",
     "text": [
      "C:\\Users\\Admin\\AppData\\Local\\Temp\\ipykernel_7904\\3148663318.py:2: FutureWarning: \n",
      "\n",
      "Passing `palette` without assigning `hue` is deprecated and will be removed in v0.14.0. Assign the `x` variable to `hue` and set `legend=False` for the same effect.\n",
      "\n",
      "  sns.countplot(data=merged_sales_data, x='category', palette='Set2')\n"
     ]
    },
    {
     "data": {
      "image/png": "[encoded data removed]",
      "text/plain": [
       "<Figure size 1200x600 with 1 Axes>"
      ]
     },
     "metadata": {},
     "output_type": "display_data"
    }
   ],
   "source": [
    "plt.figure(figsize=(12, 6))\n",
    "sns.countplot(data=merged_sales_data, x='category', palette='Set2')\n",
    "plt.title('Count of Products by Category')\n",
    "plt.xlabel('Product Category')\n",
    "plt.ylabel('Count')\n",
    "plt.show()"
   ]
  },
  {
   "cell_type": "markdown",
   "metadata": {},
   "source": [
    "# b. Customer Segment Count"
   ]
  },
  {
   "cell_type": "code",
   "execution_count": 82,
   "metadata": {},
   "outputs": [
    {
     "name": "stderr",
     "output_type": "stream",
     "text": [
      "C:\\Users\\Admin\\AppData\\Local\\Temp\\ipykernel_7904\\2362172077.py:2: FutureWarning: \n",
      "\n",
      "Passing `palette` without assigning `hue` is deprecated and will be removed in v0.14.0. Assign the `x` variable to `hue` and set `legend=False` for the same effect.\n",
      "\n",
      "  sns.countplot(data=user_orders, x='customer_type', palette='Set1')\n"
     ]
    },
    {
     "data": {
      "image/png": "[encoded data removed]",
      "text/plain": [
       "<Figure size 1200x600 with 1 Axes>"
      ]
     },
     "metadata": {},
     "output_type": "display_data"
    }
   ],
   "source": [
    "plt.figure(figsize=(12, 6))\n",
    "sns.countplot(data=user_orders, x='customer_type', palette='Set1') \n",
    "plt.title('Count of Customer Type')\n",
    "plt.xlabel('Customer Type')\n",
    "plt.ylabel('Count')\n",
    "plt.show()"
   ]
  },
  {
   "cell_type": "markdown",
   "metadata": {},
   "source": [
    "# Descriptive Statistics for Numerical Variables"
   ]
  },
  {
   "cell_type": "code",
   "execution_count": 83,
   "metadata": {},
   "outputs": [
    {
     "name": "stdout",
     "output_type": "stream",
     "text": [
      "Descriptive Statistics:\n"
     ]
    },
    {
     "data": {
      "text/html": [
       "<div>\n",
       "<style scoped>\n",
       "    .dataframe tbody tr th:only-of-type {\n",
       "        vertical-align: middle;\n",
       "    }\n",
       "\n",
       "    .dataframe tbody tr th {\n",
       "        vertical-align: top;\n",
       "    }\n",
       "\n",
       "    .dataframe thead th {\n",
       "        text-align: right;\n",
       "    }\n",
       "</style>\n",
       "<table border=\"1\" class=\"dataframe\">\n",
       "  <thead>\n",
       "    <tr style=\"text-align: right;\">\n",
       "      <th></th>\n",
       "      <th>Price</th>\n",
       "      <th>rating</th>\n",
       "    </tr>\n",
       "  </thead>\n",
       "  <tbody>\n",
       "    <tr>\n",
       "      <th>count</th>\n",
       "      <td>1664.000000</td>\n",
       "      <td>1664.000000</td>\n",
       "    </tr>\n",
       "    <tr>\n",
       "      <th>mean</th>\n",
       "      <td>1054.243155</td>\n",
       "      <td>3.242248</td>\n",
       "    </tr>\n",
       "    <tr>\n",
       "      <th>std</th>\n",
       "      <td>563.148881</td>\n",
       "      <td>1.810921</td>\n",
       "    </tr>\n",
       "    <tr>\n",
       "      <th>min</th>\n",
       "      <td>101.310000</td>\n",
       "      <td>0.000000</td>\n",
       "    </tr>\n",
       "    <tr>\n",
       "      <th>25%</th>\n",
       "      <td>554.627500</td>\n",
       "      <td>3.100000</td>\n",
       "    </tr>\n",
       "    <tr>\n",
       "      <th>50%</th>\n",
       "      <td>1048.585000</td>\n",
       "      <td>4.100000</td>\n",
       "    </tr>\n",
       "    <tr>\n",
       "      <th>75%</th>\n",
       "      <td>1541.035000</td>\n",
       "      <td>4.400000</td>\n",
       "    </tr>\n",
       "    <tr>\n",
       "      <th>max</th>\n",
       "      <td>1999.720000</td>\n",
       "      <td>5.000000</td>\n",
       "    </tr>\n",
       "  </tbody>\n",
       "</table>\n",
       "</div>"
      ],
      "text/plain": [
       "             Price       rating\n",
       "count  1664.000000  1664.000000\n",
       "mean   1054.243155     3.242248\n",
       "std     563.148881     1.810921\n",
       "min     101.310000     0.000000\n",
       "25%     554.627500     3.100000\n",
       "50%    1048.585000     4.100000\n",
       "75%    1541.035000     4.400000\n",
       "max    1999.720000     5.000000"
      ]
     },
     "execution_count": 83,
     "metadata": {},
     "output_type": "execute_result"
    }
   ],
   "source": [
    "desc_stats_product = merged_product_data.describe()\n",
    "print(\"Descriptive Statistics:\")\n",
    "desc_stats_product"
   ]
  },
  {
   "cell_type": "code",
   "execution_count": 84,
   "metadata": {},
   "outputs": [
    {
     "name": "stdout",
     "output_type": "stream",
     "text": [
      "Descriptive Statistics:\n"
     ]
    },
    {
     "data": {
      "text/html": [
       "<div>\n",
       "<style scoped>\n",
       "    .dataframe tbody tr th:only-of-type {\n",
       "        vertical-align: middle;\n",
       "    }\n",
       "\n",
       "    .dataframe tbody tr th {\n",
       "        vertical-align: top;\n",
       "    }\n",
       "\n",
       "    .dataframe thead th {\n",
       "        text-align: right;\n",
       "    }\n",
       "</style>\n",
       "<table border=\"1\" class=\"dataframe\">\n",
       "  <thead>\n",
       "    <tr style=\"text-align: right;\">\n",
       "      <th></th>\n",
       "      <th>date</th>\n",
       "      <th>quantity_sold</th>\n",
       "      <th>revenue</th>\n",
       "      <th>month</th>\n",
       "      <th>year</th>\n",
       "    </tr>\n",
       "  </thead>\n",
       "  <tbody>\n",
       "    <tr>\n",
       "      <th>count</th>\n",
       "      <td>4956</td>\n",
       "      <td>4956.00000</td>\n",
       "      <td>4956.000000</td>\n",
       "      <td>4956.000000</td>\n",
       "      <td>4956.000000</td>\n",
       "    </tr>\n",
       "    <tr>\n",
       "      <th>mean</th>\n",
       "      <td>2024-04-01 16:28:45.907990272</td>\n",
       "      <td>10.49778</td>\n",
       "      <td>11187.910232</td>\n",
       "      <td>6.508273</td>\n",
       "      <td>2023.752421</td>\n",
       "    </tr>\n",
       "    <tr>\n",
       "      <th>min</th>\n",
       "      <td>2023-10-01 00:00:00</td>\n",
       "      <td>1.00000</td>\n",
       "      <td>111.010000</td>\n",
       "      <td>1.000000</td>\n",
       "      <td>2023.000000</td>\n",
       "    </tr>\n",
       "    <tr>\n",
       "      <th>25%</th>\n",
       "      <td>2024-01-01 00:00:00</td>\n",
       "      <td>6.00000</td>\n",
       "      <td>3697.647500</td>\n",
       "      <td>3.000000</td>\n",
       "      <td>2024.000000</td>\n",
       "    </tr>\n",
       "    <tr>\n",
       "      <th>50%</th>\n",
       "      <td>2024-03-31 00:00:00</td>\n",
       "      <td>10.00000</td>\n",
       "      <td>8582.625000</td>\n",
       "      <td>7.000000</td>\n",
       "      <td>2024.000000</td>\n",
       "    </tr>\n",
       "    <tr>\n",
       "      <th>75%</th>\n",
       "      <td>2024-07-02 00:00:00</td>\n",
       "      <td>15.00000</td>\n",
       "      <td>16734.900000</td>\n",
       "      <td>9.000000</td>\n",
       "      <td>2024.000000</td>\n",
       "    </tr>\n",
       "    <tr>\n",
       "      <th>max</th>\n",
       "      <td>2024-09-29 00:00:00</td>\n",
       "      <td>20.00000</td>\n",
       "      <td>39959.400000</td>\n",
       "      <td>12.000000</td>\n",
       "      <td>2024.000000</td>\n",
       "    </tr>\n",
       "    <tr>\n",
       "      <th>std</th>\n",
       "      <td>NaN</td>\n",
       "      <td>5.75397</td>\n",
       "      <td>9199.589666</td>\n",
       "      <td>3.456481</td>\n",
       "      <td>0.431649</td>\n",
       "    </tr>\n",
       "  </tbody>\n",
       "</table>\n",
       "</div>"
      ],
      "text/plain": [
       "                                date  quantity_sold       revenue  \\\n",
       "count                           4956     4956.00000   4956.000000   \n",
       "mean   2024-04-01 16:28:45.907990272       10.49778  11187.910232   \n",
       "min              2023-10-01 00:00:00        1.00000    111.010000   \n",
       "25%              2024-01-01 00:00:00        6.00000   3697.647500   \n",
       "50%              2024-03-31 00:00:00       10.00000   8582.625000   \n",
       "75%              2024-07-02 00:00:00       15.00000  16734.900000   \n",
       "max              2024-09-29 00:00:00       20.00000  39959.400000   \n",
       "std                              NaN        5.75397   9199.589666   \n",
       "\n",
       "             month         year  \n",
       "count  4956.000000  4956.000000  \n",
       "mean      6.508273  2023.752421  \n",
       "min       1.000000  2023.000000  \n",
       "25%       3.000000  2024.000000  \n",
       "50%       7.000000  2024.000000  \n",
       "75%       9.000000  2024.000000  \n",
       "max      12.000000  2024.000000  \n",
       "std       3.456481     0.431649  "
      ]
     },
     "execution_count": 84,
     "metadata": {},
     "output_type": "execute_result"
    }
   ],
   "source": [
    "desc_stats_sales = merged_sales_data.describe()\n",
    "print(\"Descriptive Statistics:\")\n",
    "desc_stats_sales"
   ]
  },
  {
   "cell_type": "markdown",
   "metadata": {},
   "source": [
    "# Box Plots"
   ]
  },
  {
   "cell_type": "markdown",
   "metadata": {},
   "source": [
    "# a. Box Plot of Revenue by Product Category"
   ]
  },
  {
   "cell_type": "code",
   "execution_count": 85,
   "metadata": {},
   "outputs": [
    {
     "name": "stderr",
     "output_type": "stream",
     "text": [
      "C:\\Users\\Admin\\AppData\\Local\\Temp\\ipykernel_7904\\2530312074.py:2: FutureWarning: \n",
      "\n",
      "Passing `palette` without assigning `hue` is deprecated and will be removed in v0.14.0. Assign the `x` variable to `hue` and set `legend=False` for the same effect.\n",
      "\n",
      "  sns.boxplot(data=merged_sales_data, x='category', y='revenue', palette='Set2')\n"
     ]
    },
    {
     "data": {
      "image/png": "[encoded data removed]",
      "text/plain": [
       "<Figure size 1200x600 with 1 Axes>"
      ]
     },
     "metadata": {},
     "output_type": "display_data"
    }
   ],
   "source": [
    "plt.figure(figsize=(12, 6))\n",
    "sns.boxplot(data=merged_sales_data, x='category', y='revenue', palette='Set2')\n",
    "plt.title('Box Plot of Revenue by Product Category')\n",
    "plt.xlabel('Product Category')\n",
    "plt.ylabel('Revenue')\n",
    "plt.show()"
   ]
  },
  {
   "cell_type": "markdown",
   "metadata": {},
   "source": [
    "# b. Box Plot of Rating by Product Category (if applicable)"
   ]
  },
  {
   "cell_type": "code",
   "execution_count": 86,
   "metadata": {},
   "outputs": [
    {
     "name": "stderr",
     "output_type": "stream",
     "text": [
      "C:\\Users\\Admin\\AppData\\Local\\Temp\\ipykernel_7904\\1557464078.py:2: FutureWarning: \n",
      "\n",
      "Passing `palette` without assigning `hue` is deprecated and will be removed in v0.14.0. Assign the `x` variable to `hue` and set `legend=False` for the same effect.\n",
      "\n",
      "  sns.boxplot(data=merged_product_data, x='category', y='rating', palette='Set3')\n"
     ]
    },
    {
     "data": {
      "image/png": "[encoded data removed]",
      "text/plain": [
       "<Figure size 1200x600 with 1 Axes>"
      ]
     },
     "metadata": {},
     "output_type": "display_data"
    }
   ],
   "source": [
    "plt.figure(figsize=(12, 6))\n",
    "sns.boxplot(data=merged_product_data, x='category', y='rating', palette='Set3')\n",
    "plt.title('Box Plot of Rating by Product Category')\n",
    "plt.xlabel('Product Category')\n",
    "plt.ylabel('Rating')\n",
    "plt.show()"
   ]
  },
  {
   "cell_type": "markdown",
   "metadata": {},
   "source": [
    "# Average Revenue by Product Category"
   ]
  },
  {
   "cell_type": "code",
   "execution_count": 87,
   "metadata": {},
   "outputs": [
    {
     "name": "stderr",
     "output_type": "stream",
     "text": [
      "C:\\Users\\Admin\\AppData\\Local\\Temp\\ipykernel_7904\\2877632080.py:3: FutureWarning: \n",
      "\n",
      "Passing `palette` without assigning `hue` is deprecated and will be removed in v0.14.0. Assign the `x` variable to `hue` and set `legend=False` for the same effect.\n",
      "\n",
      "  sns.barplot(data=average_revenue_by_category, x='category', y='revenue', palette='Set2')\n"
     ]
    },
    {
     "data": {
      "image/png": "[encoded data removed]",
      "text/plain": [
       "<Figure size 1200x600 with 1 Axes>"
      ]
     },
     "metadata": {},
     "output_type": "display_data"
    }
   ],
   "source": [
    "average_revenue_by_category = merged_sales_data.groupby('category')['revenue'].mean().reset_index()\n",
    "plt.figure(figsize=(12, 6))\n",
    "sns.barplot(data=average_revenue_by_category, x='category', y='revenue', palette='Set2')\n",
    "plt.title('Average Revenue by Product Category')\n",
    "plt.xlabel('Product Category')\n",
    "plt.ylabel('Average Revenue ($)')\n",
    "plt.show()"
   ]
  },
  {
   "cell_type": "markdown",
   "metadata": {},
   "source": [
    "# Export the dataset to csv for Making Dashboard"
   ]
  },
  {
   "cell_type": "code",
   "execution_count": 99,
   "metadata": {},
   "outputs": [],
   "source": [
    "merged_product_data.to_csv('product_data.csv', index= False)\n",
    "\n",
    "merged_sales_data.to_csv('sales_data.csv', index= False)\n",
    "\n",
    "monthly_revenue.to_csv('monthly_revenue.csv', index= False)\n",
    "\n",
    "user_orders.to_csv('customer_type.csv', index= False)"
   ]
  },
  {
   "cell_type": "code",
   "execution_count": null,
   "metadata": {},
   "outputs": [],
   "source": []
  }
 ],
 "metadata": {
  "kernelspec": {
   "display_name": "Python 3",
   "language": "python",
   "name": "python3"
  },
  "language_info": {
   "codemirror_mode": {
    "name": "ipython",
    "version": 3
   },
   "file_extension": ".py",
   "mimetype": "text/x-python",
   "name": "python",
   "nbconvert_exporter": "python",
   "pygments_lexer": "ipython3",
   "version": "3.12.4"
  }
 },
 "nbformat": 4,
 "nbformat_minor": 2
}
